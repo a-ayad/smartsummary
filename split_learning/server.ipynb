{
 "cells": [
  {
   "cell_type": "code",
   "execution_count": 1,
   "metadata": {},
   "outputs": [],
   "source": [
    "import socket\n",
    "import pickle\n",
    "import struct\n",
    "import copy\n",
    "from tqdm import tqdm\n",
    "\n",
    "from sklearn.preprocessing import MinMaxScaler\n",
    "import numpy as np"
   ]
  },
  {
   "cell_type": "code",
   "execution_count": 2,
   "metadata": {},
   "outputs": [],
   "source": [
    "import torch\n",
    "import torch.nn as nn\n",
    "import torch.nn.functional as F\n",
    "from torch.utils.data import Dataset, DataLoader\n",
    "from torch.optim import Adam"
   ]
  },
  {
   "cell_type": "code",
   "execution_count": 3,
   "metadata": {},
   "outputs": [],
   "source": [
    "device = \"cpu\"\n",
    "\n",
    "torch.manual_seed(777)\n",
    "if device ==\"cuda:0\":\n",
    "    torch.cuda.manual_seed_all(777)"
   ]
  },
  {
   "cell_type": "code",
   "execution_count": 4,
   "metadata": {},
   "outputs": [],
   "source": [
    "with (open(\"recsys_data/data.p\", \"rb\")) as openfile:\n",
    "    train_data = pickle.load(openfile)\n",
    "with (open(\"recsys_data/lab_ratings.p\", \"rb\")) as openfile:\n",
    "    lab_ratings = pickle.load(openfile)\n",
    "with (open(\"recsys_data/fb_data_train.p\", \"rb\")) as openfile:\n",
    "    fb_data_train = pickle.load(openfile)\n",
    "with (open(\"recsys_data/fb_labels_train.p\", \"rb\")) as openfile:\n",
    "    fb_labels_train = pickle.load(openfile)\n",
    "with (open(\"recsys_data/fb_data_test.p\", 'rb')) as openfile:\n",
    "    fb_data_test = pickle.load(openfile)\n",
    "with (open(\"recsys_data/fb_labels_test.p\", \"rb\")) as openfile:\n",
    "    fb_labels_test = pickle.load(openfile)"
   ]
  },
  {
   "cell_type": "code",
   "execution_count": 5,
   "metadata": {},
   "outputs": [],
   "source": [
    "EMBED_FILE = 'recsys_data/processed_full.embed'"
   ]
  },
  {
   "cell_type": "code",
   "execution_count": 6,
   "metadata": {},
   "outputs": [],
   "source": [
    "def load_embeddings(embed_file):\n",
    "    #also normalizes the embeddings\n",
    "    W = []\n",
    "    with open(embed_file) as ef:\n",
    "        for line in ef:\n",
    "            line = line.rstrip().split()\n",
    "            vec = np.array(line[1:]).astype(np.float)\n",
    "            vec = vec / float(np.linalg.norm(vec) + 1e-6)\n",
    "            W.append(vec)\n",
    "        #UNK embedding, gaussian randomly initialized \n",
    "        print(\"adding unk embedding\")\n",
    "        vec = np.random.randn(len(W[-1]))\n",
    "        vec = vec / float(np.linalg.norm(vec) + 1e-6)\n",
    "        W.append(vec)\n",
    "    W = np.array(W)\n",
    "    return W"
   ]
  },
  {
   "cell_type": "code",
   "execution_count": 7,
   "metadata": {},
   "outputs": [
    {
     "name": "stdout",
     "output_type": "stream",
     "text": [
      "adding unk embedding\n"
     ]
    }
   ],
   "source": [
    "embedding_matrix = load_embeddings(EMBED_FILE)\n",
    "# embedding_matrix.shape()"
   ]
  },
  {
   "cell_type": "code",
   "execution_count": 8,
   "metadata": {},
   "outputs": [
    {
     "data": {
      "text/plain": [
       "51917"
      ]
     },
     "execution_count": 8,
     "metadata": {},
     "output_type": "execute_result"
    }
   ],
   "source": [
    "import pandas as pd\n",
    "vocab = pd.read_csv('recsys_data/vocab.csv', header=None)\n",
    "len(set(sorted(vocab[0].tolist())))"
   ]
  },
  {
   "cell_type": "code",
   "execution_count": 9,
   "metadata": {},
   "outputs": [],
   "source": [
    "def load_vocab_dict(vocab_file):\n",
    "    vocab_df = pd.read_csv(vocab_file, header=None)\n",
    "    vocab = sorted(set(vocab_df[0].tolist()))\n",
    "    ind2w = {i+1:w for i,w in enumerate(vocab)}\n",
    "    w2ind = {w:i for i,w in ind2w.items()}\n",
    "    return ind2w, w2ind"
   ]
  },
  {
   "cell_type": "code",
   "execution_count": 10,
   "metadata": {},
   "outputs": [],
   "source": [
    "idx2w, w2idx = load_vocab_dict('recsys_data/vocab.csv')"
   ]
  },
  {
   "cell_type": "code",
   "execution_count": 11,
   "metadata": {},
   "outputs": [],
   "source": [
    "def clean_text(text):\n",
    "    s = text.replace('[', \"\")\n",
    "    s = s.replace(']', \"\")\n",
    "    s = s.replace(\"'\", \"\")\n",
    "    s = s.replace(\",\", \"\")\n",
    "    s = s.split()\n",
    "    return s\n",
    "\n",
    "def encoding_disease(data, w2idx):\n",
    "    idx_total = []\n",
    "    for i in range(len(data['age'])):\n",
    "        text = data['disease'][i]\n",
    "        cleaned_text = clean_text(text)\n",
    "        idx = []\n",
    "        for st in cleaned_text:\n",
    "            if st not in w2idx:\n",
    "                idx.append(len(w2idx)+1)\n",
    "            else:\n",
    "                idx.append(w2idx[st])\n",
    "        idx_total.append(idx)\n",
    "    return np.array(idx_total)"
   ]
  },
  {
   "cell_type": "code",
   "execution_count": 12,
   "metadata": {},
   "outputs": [],
   "source": [
    "def pad_sequences(sequences, max_seq_len: int = 0):\n",
    "    max_seq_len = max(max_seq_len, max(len(sequence) for sequence in sequences))\n",
    "    # Pad\n",
    "    padded_sequences = np.zeros((len(sequences), max_seq_len))\n",
    "    for i, sequence in enumerate(sequences):\n",
    "        padded_sequences[i][: len(sequence)] = sequence\n",
    "    return padded_sequences\n"
   ]
  },
  {
   "cell_type": "code",
   "execution_count": 13,
   "metadata": {},
   "outputs": [
    {
     "name": "stderr",
     "output_type": "stream",
     "text": [
      "<ipython-input-11-1e1034462875>:21: VisibleDeprecationWarning: Creating an ndarray from ragged nested sequences (which is a list-or-tuple of lists-or-tuples-or ndarrays with different lengths or shapes) is deprecated. If you meant to do this, you must specify 'dtype=object' when creating the ndarray\n",
      "  return np.array(idx_total)\n"
     ]
    }
   ],
   "source": [
    "train_encoded_disease = encoding_disease(train_data, w2idx)\n",
    "train_padded_encoded_disease = pad_sequences(train_encoded_disease)\n",
    "fb_train_encoded_disease = encoding_disease(fb_data_train, w2idx)\n",
    "fb_train_padded_encoded_disease = pad_sequences(fb_train_encoded_disease)\n",
    "fb_test_encoded_disease = encoding_disease(fb_data_test, w2idx)\n",
    "fb_test_padded_encoded_disease = pad_sequences(fb_test_encoded_disease)\n",
    "\n",
    "train_data['encoded_disease'] = train_padded_encoded_disease\n",
    "fb_data_train['encoded_disease'] = fb_train_padded_encoded_disease\n",
    "fb_data_test['encoded_disease'] = fb_test_padded_encoded_disease"
   ]
  },
  {
   "cell_type": "code",
   "execution_count": 14,
   "metadata": {},
   "outputs": [],
   "source": [
    "EPOCHS = 50\n",
    "users = 2"
   ]
  },
  {
   "cell_type": "code",
   "execution_count": 15,
   "metadata": {},
   "outputs": [],
   "source": [
    "train_data['age'] = train_data['age'].reshape((-1, 1))\n",
    "train_data['weight'] = train_data['weight'].reshape((-1, 1))"
   ]
  },
  {
   "cell_type": "code",
   "execution_count": 16,
   "metadata": {},
   "outputs": [],
   "source": [
    "scaler_age = MinMaxScaler()\n",
    "scaler_weight = MinMaxScaler()\n",
    "train_data['age'] = scaler_age.fit_transform(train_data['age'])\n",
    "train_data['weight'] = scaler_weight.fit_transform(train_data['weight'])"
   ]
  },
  {
   "cell_type": "code",
   "execution_count": 17,
   "metadata": {},
   "outputs": [],
   "source": [
    "class InitialDataset(Dataset):\n",
    "    def __init__(self):\n",
    "        self.data = train_data\n",
    "        self.ratings = lab_ratings\n",
    "    def __getitem__(self, index):\n",
    "        age = self.data['age'][index]\n",
    "        weight = self.data['weight'][index]\n",
    "        icd_codes = self.data['codes'][index]\n",
    "        disease = self.data['encoded_disease'][index]\n",
    "        target = self.ratings[index]\n",
    "        return {\n",
    "            'age': torch.tensor(age, dtype=float),\n",
    "            'weight': torch.tensor(weight, dtype=float),\n",
    "            'disease': torch.tensor(disease, dtype=torch.long),\n",
    "            'icd_codes': torch.tensor(icd_codes, dtype=float),\n",
    "            'target': torch.tensor(target, dtype=float)\n",
    "        }\n",
    "    def __len__(self):\n",
    "        return len(self.data['hadm_id'])"
   ]
  },
  {
   "cell_type": "code",
   "execution_count": 18,
   "metadata": {},
   "outputs": [],
   "source": [
    "fb_data_train['age'] = fb_data_train['age'].reshape((-1, 1))\n",
    "fb_data_train['weight'] = fb_data_train['weight'].reshape((-1, 1))\n",
    "\n",
    "scaler_age = MinMaxScaler()\n",
    "scaler_weight = MinMaxScaler()\n",
    "fb_data_train['age'] = scaler_age.fit_transform(fb_data_train['age'])\n",
    "fb_data_train['weight'] = scaler_weight.fit_transform(fb_data_train['weight'])"
   ]
  },
  {
   "cell_type": "code",
   "execution_count": 19,
   "metadata": {},
   "outputs": [],
   "source": [
    "fb_data_test['age'] = fb_data_test['age'].reshape((-1, 1))\n",
    "fb_data_test['weight'] = fb_data_test['weight'].reshape((-1, 1))\n",
    "\n",
    "scaler_age = MinMaxScaler()\n",
    "scaler_weight = MinMaxScaler()\n",
    "fb_data_test['age'] = scaler_age.fit_transform(fb_data_test['age'])\n",
    "fb_data_test['weight'] = scaler_weight.fit_transform(fb_data_test['weight'])"
   ]
  },
  {
   "cell_type": "code",
   "execution_count": 20,
   "metadata": {},
   "outputs": [],
   "source": [
    "class FeedbackDataset(Dataset):\n",
    "    def __init__(self, train=False):\n",
    "        if train:\n",
    "            self.data = fb_data_train\n",
    "            self.ratings = fb_labels_train\n",
    "        else:\n",
    "            self.data = fb_data_test\n",
    "            self.ratings = fb_labels_test\n",
    "            \n",
    "    def __getitem__(self, index):\n",
    "        age = self.data['age'][index]\n",
    "        weight = self.data['weight'][index]\n",
    "        icd_codes = self.data['codes'][index]\n",
    "        disease = self.data['encoded_disease'][index]\n",
    "        target = self.ratings[index]\n",
    "        return {\n",
    "            'age': torch.tensor(age, dtype=float),\n",
    "            'weight': torch.tensor(weight, dtype=float),\n",
    "            'disease': torch.tensor(disease, dtype=torch.long),\n",
    "            'icd_codes': torch.tensor(icd_codes, dtype=float),\n",
    "            'target': torch.tensor(target, dtype=float)\n",
    "        }\n",
    "    def __len__(self):\n",
    "        return len(self.data['age'])"
   ]
  },
  {
   "cell_type": "code",
   "execution_count": 21,
   "metadata": {},
   "outputs": [],
   "source": [
    "initial_dataset = InitialDataset()\n",
    "train_loader = DataLoader(initial_dataset, batch_size=64, shuffle=True)\n",
    "\n",
    "fb_train_dataset = FeedbackDataset(train=True)\n",
    "fb_train_loader = DataLoader(fb_train_dataset, batch_size=64, shuffle=True)\n",
    "\n",
    "fb_test_dataset = FeedbackDataset(train=False)\n",
    "fb_test_loader = DataLoader(fb_test_dataset, batch_size=64)"
   ]
  },
  {
   "cell_type": "code",
   "execution_count": 22,
   "metadata": {},
   "outputs": [],
   "source": [
    "class RecSysServer(nn.Module):\n",
    "    def __init__(self):\n",
    "        super().__init__()\n",
    "#             self.fc1 = nn.Linear(52, 1024)\n",
    "#             self.fc2 = nn.Linear(1024, 512)\n",
    "        self.fc3 = nn.Linear(512, 256)\n",
    "        self.fc4 = nn.Linear(256, 25)\n",
    "    def forward(self, x):\n",
    "        x = self.fc3(x)\n",
    "        x = F.relu(x)\n",
    "        x = self.fc4(x)\n",
    "        return x\n",
    "            "
   ]
  },
  {
   "cell_type": "code",
   "execution_count": 23,
   "metadata": {},
   "outputs": [
    {
     "name": "stdout",
     "output_type": "stream",
     "text": [
      "RecSysServer(\n",
      "  (fc3): Linear(in_features=512, out_features=256, bias=True)\n",
      "  (fc4): Linear(in_features=256, out_features=25, bias=True)\n",
      ")\n"
     ]
    }
   ],
   "source": [
    "server = RecSysServer()\n",
    "print(server)"
   ]
  },
  {
   "cell_type": "code",
   "execution_count": 24,
   "metadata": {},
   "outputs": [],
   "source": [
    "class RecSysClient(nn.Module):\n",
    "    def __init__(self):\n",
    "        super().__init__()\n",
    "#         W = torch.Tensor(load_embeddings(EMBED_FILE))\n",
    "#         self.embed = nn.Embedding(W.size()[0], W.size()[1], padding_idx=0)\n",
    "#         self.embed.weight.data = W.clone()\n",
    "        W = torch.Tensor(embedding_matrix)\n",
    "        self.embed = nn.Embedding(W.size()[0], W.size()[1], padding_idx=0)\n",
    "        self.embed.weight.data = W.clone()\n",
    "        \n",
    "        self.fc1 = nn.Linear(152, 1024)\n",
    "        self.fc2 = nn.Linear(1024, 512)\n",
    "#         self.fc3 = nn.Linear(512, 256)\n",
    "#         self.fc4 = nn.Linear(256, 25)\n",
    "    def forward(self, age, weight, icd_codes, disease):\n",
    "#         age = x['age']\n",
    "#         weight = x['weight']\n",
    "#         icd_codes = x['icd_codes']\n",
    "        \n",
    "        embedded = self.embed(disease)\n",
    "        embedded = torch.mean(embedded, 1)\n",
    "        \n",
    "        x = torch.cat((embedded, icd_codes, age, weight), 1).float()\n",
    "        x = self.fc1(x)\n",
    "        x = F.relu(x)\n",
    "        x = self.fc2(x)\n",
    "        x = F.relu(x)\n",
    "        return x"
   ]
  },
  {
   "cell_type": "code",
   "execution_count": 25,
   "metadata": {},
   "outputs": [
    {
     "name": "stdout",
     "output_type": "stream",
     "text": [
      "RecSysClient(\n",
      "  (embed): Embedding(51919, 100, padding_idx=0)\n",
      "  (fc1): Linear(in_features=152, out_features=1024, bias=True)\n",
      "  (fc2): Linear(in_features=1024, out_features=512, bias=True)\n",
      ")\n"
     ]
    }
   ],
   "source": [
    "client = RecSysClient()\n",
    "print(client)"
   ]
  },
  {
   "cell_type": "code",
   "execution_count": 26,
   "metadata": {},
   "outputs": [],
   "source": [
    "criterion = nn.MSELoss()\n",
    "lr = 0.001\n",
    "optimizer_server = Adam(server.parameters(), lr=lr)\n",
    "\n",
    "clientsoclist = []\n",
    "train_total_batch = []\n",
    "client_weights = copy.deepcopy(client.state_dict())"
   ]
  },
  {
   "cell_type": "code",
   "execution_count": 27,
   "metadata": {},
   "outputs": [],
   "source": [
    "total_sendsize_list = []\n",
    "total_receivesize_list = []\n",
    "\n",
    "client_sendsize_list = [[] for i in range(users)]\n",
    "client_receivesize_list = [[] for i in range(users)]\n",
    "\n",
    "train_sendsize_list = [] \n",
    "train_receivesize_list = []"
   ]
  },
  {
   "cell_type": "code",
   "execution_count": 28,
   "metadata": {},
   "outputs": [],
   "source": [
    "def send_msg(sock, msg):\n",
    "    # prefix each message with a 4-byte length in network byte order\n",
    "    msg = pickle.dumps(msg)\n",
    "    l_send = len(msg)\n",
    "    msg = struct.pack('>I', l_send) + msg\n",
    "    sock.sendall(msg)\n",
    "    return l_send\n",
    "\n",
    "def recv_msg(sock):\n",
    "    # read message length and unpack it into an integer\n",
    "    raw_msglen = recvall(sock, 4)\n",
    "    if not raw_msglen:\n",
    "        return None\n",
    "    msglen = struct.unpack('>I', raw_msglen)[0]\n",
    "    # read the message data\n",
    "    msg =  recvall(sock, msglen)\n",
    "    msg = pickle.loads(msg)\n",
    "    return msg, msglen\n",
    "\n",
    "def recvall(sock, n):\n",
    "    # helper function to receive n bytes or return None if EOF is hit\n",
    "    data = b''\n",
    "    while len(data) < n:\n",
    "        packet = sock.recv(n - len(data))\n",
    "        if not packet:\n",
    "            return None\n",
    "        data += packet\n",
    "    return data"
   ]
  },
  {
   "cell_type": "code",
   "execution_count": 29,
   "metadata": {},
   "outputs": [
    {
     "name": "stdout",
     "output_type": "stream",
     "text": [
      "10.10.7.64\n"
     ]
    }
   ],
   "source": [
    "host = socket.gethostbyname(socket.gethostname())\n",
    "port = 10080\n",
    "print(host)"
   ]
  },
  {
   "cell_type": "code",
   "execution_count": 30,
   "metadata": {},
   "outputs": [],
   "source": [
    "s = socket.socket()\n",
    "s.bind((host, port))\n",
    "s.listen(5)"
   ]
  },
  {
   "cell_type": "code",
   "execution_count": 31,
   "metadata": {},
   "outputs": [
    {
     "name": "stdout",
     "output_type": "stream",
     "text": [
      "Conntected with ('10.10.7.64', 62701)\n",
      "Conntected with ('10.10.7.64', 62702)\n"
     ]
    }
   ],
   "source": [
    "for i in range(users):\n",
    "    conn, addr = s.accept()\n",
    "    print('Conntected with', addr)\n",
    "    clientsoclist.append(conn)    # append client socket on list\n",
    "\n",
    "    datasize = send_msg(conn, EPOCHS)    #send epoch\n",
    "    total_sendsize_list.append(datasize)\n",
    "    client_sendsize_list[i].append(datasize)\n",
    "\n",
    "    total_batch, datasize = recv_msg(conn)    # get total_batch of train dataset\n",
    "    total_receivesize_list.append(datasize)\n",
    "    client_receivesize_list[i].append(datasize)\n",
    "\n",
    "    train_total_batch.append(total_batch)    # append on list"
   ]
  },
  {
   "cell_type": "code",
   "execution_count": 32,
   "metadata": {},
   "outputs": [
    {
     "name": "stderr",
     "output_type": "stream",
     "text": [
      "Epoch 1 Client0 : 100%|███████████████████████████████████████████| 181/181 [00:07<00:00, 23.59it/s]\n",
      "Epoch 1 Client1 : 100%|███████████████████████████████████████████| 181/181 [00:07<00:00, 22.87it/s]\n",
      "Epoch 2 Client0 :   0%|                                                     | 0/181 [00:00<?, ?it/s]"
     ]
    },
    {
     "name": "stdout",
     "output_type": "stream",
     "text": [
      "train_loss: 5.7572\n"
     ]
    },
    {
     "name": "stderr",
     "output_type": "stream",
     "text": [
      "Epoch 2 Client0 : 100%|███████████████████████████████████████████| 181/181 [00:07<00:00, 25.12it/s]\n",
      "Epoch 2 Client1 : 100%|███████████████████████████████████████████| 181/181 [00:07<00:00, 24.16it/s]\n",
      "Epoch 3 Client0 :   0%|                                                     | 0/181 [00:00<?, ?it/s]"
     ]
    },
    {
     "name": "stdout",
     "output_type": "stream",
     "text": [
      "train_loss: 5.6990\n"
     ]
    },
    {
     "name": "stderr",
     "output_type": "stream",
     "text": [
      "Epoch 3 Client0 : 100%|███████████████████████████████████████████| 181/181 [00:07<00:00, 24.82it/s]\n",
      "Epoch 3 Client1 : 100%|███████████████████████████████████████████| 181/181 [00:07<00:00, 24.94it/s]\n",
      "Epoch 4 Client0 :   0%|                                                     | 0/181 [00:00<?, ?it/s]"
     ]
    },
    {
     "name": "stdout",
     "output_type": "stream",
     "text": [
      "train_loss: 5.6446\n"
     ]
    },
    {
     "name": "stderr",
     "output_type": "stream",
     "text": [
      "Epoch 4 Client0 : 100%|███████████████████████████████████████████| 181/181 [00:07<00:00, 24.96it/s]\n",
      "Epoch 4 Client1 : 100%|███████████████████████████████████████████| 181/181 [00:07<00:00, 25.22it/s]\n",
      "Epoch 5 Client0 :   0%|                                                     | 0/181 [00:00<?, ?it/s]"
     ]
    },
    {
     "name": "stdout",
     "output_type": "stream",
     "text": [
      "train_loss: 5.5273\n"
     ]
    },
    {
     "name": "stderr",
     "output_type": "stream",
     "text": [
      "Epoch 5 Client0 : 100%|███████████████████████████████████████████| 181/181 [00:07<00:00, 24.30it/s]\n",
      "Epoch 5 Client1 : 100%|███████████████████████████████████████████| 181/181 [00:07<00:00, 25.69it/s]\n",
      "Epoch 6 Client0 :   0%|                                                     | 0/181 [00:00<?, ?it/s]"
     ]
    },
    {
     "name": "stdout",
     "output_type": "stream",
     "text": [
      "train_loss: 5.4560\n"
     ]
    },
    {
     "name": "stderr",
     "output_type": "stream",
     "text": [
      "Epoch 6 Client0 : 100%|███████████████████████████████████████████| 181/181 [00:07<00:00, 24.14it/s]\n",
      "Epoch 6 Client1 : 100%|███████████████████████████████████████████| 181/181 [00:07<00:00, 25.00it/s]\n",
      "Epoch 7 Client0 :   0%|                                                     | 0/181 [00:00<?, ?it/s]"
     ]
    },
    {
     "name": "stdout",
     "output_type": "stream",
     "text": [
      "train_loss: 5.3689\n"
     ]
    },
    {
     "name": "stderr",
     "output_type": "stream",
     "text": [
      "Epoch 7 Client0 : 100%|███████████████████████████████████████████| 181/181 [00:07<00:00, 25.58it/s]\n",
      "Epoch 7 Client1 : 100%|███████████████████████████████████████████| 181/181 [00:07<00:00, 25.24it/s]\n",
      "Epoch 8 Client0 :   0%|                                                     | 0/181 [00:00<?, ?it/s]"
     ]
    },
    {
     "name": "stdout",
     "output_type": "stream",
     "text": [
      "train_loss: 5.2507\n"
     ]
    },
    {
     "name": "stderr",
     "output_type": "stream",
     "text": [
      "Epoch 8 Client0 : 100%|███████████████████████████████████████████| 181/181 [00:07<00:00, 24.65it/s]\n",
      "Epoch 8 Client1 : 100%|███████████████████████████████████████████| 181/181 [00:07<00:00, 25.13it/s]\n",
      "Epoch 9 Client0 :   0%|                                                     | 0/181 [00:00<?, ?it/s]"
     ]
    },
    {
     "name": "stdout",
     "output_type": "stream",
     "text": [
      "train_loss: 5.1312\n"
     ]
    },
    {
     "name": "stderr",
     "output_type": "stream",
     "text": [
      "Epoch 9 Client0 : 100%|███████████████████████████████████████████| 181/181 [00:07<00:00, 25.47it/s]\n",
      "Epoch 9 Client1 : 100%|███████████████████████████████████████████| 181/181 [00:07<00:00, 23.92it/s]\n",
      "Epoch 10 Client0 :   0%|                                                    | 0/181 [00:00<?, ?it/s]"
     ]
    },
    {
     "name": "stdout",
     "output_type": "stream",
     "text": [
      "train_loss: 4.9576\n"
     ]
    },
    {
     "name": "stderr",
     "output_type": "stream",
     "text": [
      "Epoch 10 Client0 : 100%|██████████████████████████████████████████| 181/181 [00:07<00:00, 25.18it/s]\n",
      "Epoch 10 Client1 : 100%|██████████████████████████████████████████| 181/181 [00:06<00:00, 25.94it/s]\n",
      "Epoch 11 Client0 :   0%|                                                    | 0/181 [00:00<?, ?it/s]"
     ]
    },
    {
     "name": "stdout",
     "output_type": "stream",
     "text": [
      "train_loss: 4.7966\n"
     ]
    },
    {
     "name": "stderr",
     "output_type": "stream",
     "text": [
      "Epoch 11 Client0 : 100%|██████████████████████████████████████████| 181/181 [00:07<00:00, 25.29it/s]\n",
      "Epoch 11 Client1 : 100%|██████████████████████████████████████████| 181/181 [00:07<00:00, 25.41it/s]\n",
      "Epoch 12 Client0 :   0%|                                                    | 0/181 [00:00<?, ?it/s]"
     ]
    },
    {
     "name": "stdout",
     "output_type": "stream",
     "text": [
      "train_loss: 4.6468\n"
     ]
    },
    {
     "name": "stderr",
     "output_type": "stream",
     "text": [
      "Epoch 12 Client0 : 100%|██████████████████████████████████████████| 181/181 [00:07<00:00, 25.05it/s]\n",
      "Epoch 12 Client1 : 100%|██████████████████████████████████████████| 181/181 [00:07<00:00, 25.17it/s]\n",
      "Epoch 13 Client0 :   0%|                                                    | 0/181 [00:00<?, ?it/s]"
     ]
    },
    {
     "name": "stdout",
     "output_type": "stream",
     "text": [
      "train_loss: 4.5568\n"
     ]
    },
    {
     "name": "stderr",
     "output_type": "stream",
     "text": [
      "Epoch 13 Client0 : 100%|██████████████████████████████████████████| 181/181 [00:07<00:00, 24.83it/s]\n",
      "Epoch 13 Client1 : 100%|██████████████████████████████████████████| 181/181 [00:07<00:00, 25.76it/s]\n",
      "Epoch 14 Client0 :   0%|                                                    | 0/181 [00:00<?, ?it/s]"
     ]
    },
    {
     "name": "stdout",
     "output_type": "stream",
     "text": [
      "train_loss: 4.3445\n"
     ]
    },
    {
     "name": "stderr",
     "output_type": "stream",
     "text": [
      "Epoch 14 Client0 : 100%|██████████████████████████████████████████| 181/181 [00:07<00:00, 25.19it/s]\n",
      "Epoch 14 Client1 : 100%|██████████████████████████████████████████| 181/181 [00:07<00:00, 25.71it/s]\n",
      "Epoch 15 Client0 :   0%|                                                    | 0/181 [00:00<?, ?it/s]"
     ]
    },
    {
     "name": "stdout",
     "output_type": "stream",
     "text": [
      "train_loss: 4.1541\n"
     ]
    },
    {
     "name": "stderr",
     "output_type": "stream",
     "text": [
      "Epoch 15 Client0 : 100%|██████████████████████████████████████████| 181/181 [00:07<00:00, 25.36it/s]\n",
      "Epoch 15 Client1 : 100%|██████████████████████████████████████████| 181/181 [00:06<00:00, 25.90it/s]\n",
      "Epoch 16 Client0 :   0%|                                                    | 0/181 [00:00<?, ?it/s]"
     ]
    },
    {
     "name": "stdout",
     "output_type": "stream",
     "text": [
      "train_loss: 4.0283\n"
     ]
    },
    {
     "name": "stderr",
     "output_type": "stream",
     "text": [
      "Epoch 16 Client0 : 100%|██████████████████████████████████████████| 181/181 [00:07<00:00, 24.83it/s]\n",
      "Epoch 16 Client1 : 100%|██████████████████████████████████████████| 181/181 [00:07<00:00, 25.35it/s]\n",
      "Epoch 17 Client0 :   0%|                                                    | 0/181 [00:00<?, ?it/s]"
     ]
    },
    {
     "name": "stdout",
     "output_type": "stream",
     "text": [
      "train_loss: 3.8022\n"
     ]
    },
    {
     "name": "stderr",
     "output_type": "stream",
     "text": [
      "Epoch 17 Client0 : 100%|██████████████████████████████████████████| 181/181 [00:07<00:00, 24.97it/s]\n",
      "Epoch 17 Client1 : 100%|██████████████████████████████████████████| 181/181 [00:07<00:00, 25.21it/s]\n",
      "Epoch 18 Client0 :   0%|                                                    | 0/181 [00:00<?, ?it/s]"
     ]
    },
    {
     "name": "stdout",
     "output_type": "stream",
     "text": [
      "train_loss: 3.6182\n"
     ]
    },
    {
     "name": "stderr",
     "output_type": "stream",
     "text": [
      "Epoch 18 Client0 : 100%|██████████████████████████████████████████| 181/181 [00:07<00:00, 25.67it/s]\n",
      "Epoch 18 Client1 : 100%|██████████████████████████████████████████| 181/181 [00:06<00:00, 26.00it/s]\n",
      "Epoch 19 Client0 :   0%|                                                    | 0/181 [00:00<?, ?it/s]"
     ]
    },
    {
     "name": "stdout",
     "output_type": "stream",
     "text": [
      "train_loss: 3.4554\n"
     ]
    },
    {
     "name": "stderr",
     "output_type": "stream",
     "text": [
      "Epoch 19 Client0 : 100%|██████████████████████████████████████████| 181/181 [00:07<00:00, 25.42it/s]\n",
      "Epoch 19 Client1 : 100%|██████████████████████████████████████████| 181/181 [00:07<00:00, 25.58it/s]\n",
      "Epoch 20 Client0 :   0%|                                                    | 0/181 [00:00<?, ?it/s]"
     ]
    },
    {
     "name": "stdout",
     "output_type": "stream",
     "text": [
      "train_loss: 3.2509\n"
     ]
    },
    {
     "name": "stderr",
     "output_type": "stream",
     "text": [
      "Epoch 20 Client0 : 100%|██████████████████████████████████████████| 181/181 [00:06<00:00, 25.90it/s]\n",
      "Epoch 20 Client1 : 100%|██████████████████████████████████████████| 181/181 [00:07<00:00, 25.61it/s]\n",
      "Epoch 21 Client0 :   0%|                                                    | 0/181 [00:00<?, ?it/s]"
     ]
    },
    {
     "name": "stdout",
     "output_type": "stream",
     "text": [
      "train_loss: 3.0561\n"
     ]
    },
    {
     "name": "stderr",
     "output_type": "stream",
     "text": [
      "Epoch 21 Client0 : 100%|██████████████████████████████████████████| 181/181 [00:07<00:00, 24.51it/s]\n",
      "Epoch 21 Client1 : 100%|██████████████████████████████████████████| 181/181 [00:07<00:00, 25.26it/s]\n",
      "Epoch 22 Client0 :   0%|                                                    | 0/181 [00:00<?, ?it/s]"
     ]
    },
    {
     "name": "stdout",
     "output_type": "stream",
     "text": [
      "train_loss: 2.9401\n"
     ]
    },
    {
     "name": "stderr",
     "output_type": "stream",
     "text": [
      "Epoch 22 Client0 : 100%|██████████████████████████████████████████| 181/181 [00:07<00:00, 25.37it/s]\n",
      "Epoch 22 Client1 : 100%|██████████████████████████████████████████| 181/181 [00:07<00:00, 25.69it/s]\n",
      "Epoch 23 Client0 :   0%|                                                    | 0/181 [00:00<?, ?it/s]"
     ]
    },
    {
     "name": "stdout",
     "output_type": "stream",
     "text": [
      "train_loss: 2.7077\n"
     ]
    },
    {
     "name": "stderr",
     "output_type": "stream",
     "text": [
      "Epoch 23 Client0 : 100%|██████████████████████████████████████████| 181/181 [00:07<00:00, 25.75it/s]\n",
      "Epoch 23 Client1 : 100%|██████████████████████████████████████████| 181/181 [00:07<00:00, 25.77it/s]\n",
      "Epoch 24 Client0 :   1%|▍                                           | 2/181 [00:00<00:10, 16.74it/s]"
     ]
    },
    {
     "name": "stdout",
     "output_type": "stream",
     "text": [
      "train_loss: 2.5448\n"
     ]
    },
    {
     "name": "stderr",
     "output_type": "stream",
     "text": [
      "Epoch 24 Client0 : 100%|██████████████████████████████████████████| 181/181 [00:07<00:00, 25.29it/s]\n",
      "Epoch 24 Client1 : 100%|██████████████████████████████████████████| 181/181 [00:07<00:00, 25.65it/s]\n",
      "Epoch 25 Client0 :   1%|▍                                           | 2/181 [00:00<00:10, 16.42it/s]"
     ]
    },
    {
     "name": "stdout",
     "output_type": "stream",
     "text": [
      "train_loss: 2.4047\n"
     ]
    },
    {
     "name": "stderr",
     "output_type": "stream",
     "text": [
      "Epoch 25 Client0 : 100%|██████████████████████████████████████████| 181/181 [00:07<00:00, 25.39it/s]\n",
      "Epoch 25 Client1 : 100%|██████████████████████████████████████████| 181/181 [00:07<00:00, 25.80it/s]\n",
      "Epoch 26 Client0 :   0%|                                                    | 0/181 [00:00<?, ?it/s]"
     ]
    },
    {
     "name": "stdout",
     "output_type": "stream",
     "text": [
      "train_loss: 2.2260\n"
     ]
    },
    {
     "name": "stderr",
     "output_type": "stream",
     "text": [
      "Epoch 26 Client0 : 100%|██████████████████████████████████████████| 181/181 [00:06<00:00, 25.92it/s]\n",
      "Epoch 26 Client1 : 100%|██████████████████████████████████████████| 181/181 [00:07<00:00, 25.77it/s]\n",
      "Epoch 27 Client0 :   0%|                                                    | 0/181 [00:00<?, ?it/s]"
     ]
    },
    {
     "name": "stdout",
     "output_type": "stream",
     "text": [
      "train_loss: 2.1528\n"
     ]
    },
    {
     "name": "stderr",
     "output_type": "stream",
     "text": [
      "Epoch 27 Client0 : 100%|██████████████████████████████████████████| 181/181 [00:07<00:00, 24.88it/s]\n",
      "Epoch 27 Client1 : 100%|██████████████████████████████████████████| 181/181 [00:07<00:00, 25.16it/s]\n",
      "Epoch 28 Client0 :   0%|                                                    | 0/181 [00:00<?, ?it/s]"
     ]
    },
    {
     "name": "stdout",
     "output_type": "stream",
     "text": [
      "train_loss: 2.0204\n"
     ]
    },
    {
     "name": "stderr",
     "output_type": "stream",
     "text": [
      "Epoch 28 Client0 : 100%|██████████████████████████████████████████| 181/181 [00:07<00:00, 25.68it/s]\n",
      "Epoch 28 Client1 : 100%|██████████████████████████████████████████| 181/181 [00:07<00:00, 25.75it/s]\n",
      "Epoch 29 Client0 :   0%|                                                    | 0/181 [00:00<?, ?it/s]"
     ]
    },
    {
     "name": "stdout",
     "output_type": "stream",
     "text": [
      "train_loss: 1.8851\n"
     ]
    },
    {
     "name": "stderr",
     "output_type": "stream",
     "text": [
      "Epoch 29 Client0 : 100%|██████████████████████████████████████████| 181/181 [00:07<00:00, 24.89it/s]\n",
      "Epoch 29 Client1 : 100%|██████████████████████████████████████████| 181/181 [00:06<00:00, 25.88it/s]\n",
      "Epoch 30 Client0 :   0%|                                                    | 0/181 [00:00<?, ?it/s]"
     ]
    },
    {
     "name": "stdout",
     "output_type": "stream",
     "text": [
      "train_loss: 1.8175\n"
     ]
    },
    {
     "name": "stderr",
     "output_type": "stream",
     "text": [
      "Epoch 30 Client0 : 100%|██████████████████████████████████████████| 181/181 [00:07<00:00, 24.84it/s]\n",
      "Epoch 30 Client1 : 100%|██████████████████████████████████████████| 181/181 [00:06<00:00, 26.08it/s]\n",
      "Epoch 31 Client0 :   0%|                                                    | 0/181 [00:00<?, ?it/s]"
     ]
    },
    {
     "name": "stdout",
     "output_type": "stream",
     "text": [
      "train_loss: 1.6323\n"
     ]
    },
    {
     "name": "stderr",
     "output_type": "stream",
     "text": [
      "Epoch 31 Client0 : 100%|██████████████████████████████████████████| 181/181 [00:07<00:00, 25.66it/s]\n",
      "Epoch 31 Client1 : 100%|██████████████████████████████████████████| 181/181 [00:07<00:00, 23.79it/s]\n",
      "Epoch 32 Client0 :   0%|                                                    | 0/181 [00:00<?, ?it/s]"
     ]
    },
    {
     "name": "stdout",
     "output_type": "stream",
     "text": [
      "train_loss: 1.6301\n"
     ]
    },
    {
     "name": "stderr",
     "output_type": "stream",
     "text": [
      "Epoch 32 Client0 : 100%|██████████████████████████████████████████| 181/181 [00:07<00:00, 25.25it/s]\n",
      "Epoch 32 Client1 : 100%|██████████████████████████████████████████| 181/181 [00:07<00:00, 25.35it/s]\n",
      "Epoch 33 Client0 :   0%|                                                    | 0/181 [00:00<?, ?it/s]"
     ]
    },
    {
     "name": "stdout",
     "output_type": "stream",
     "text": [
      "train_loss: 1.5202\n"
     ]
    },
    {
     "name": "stderr",
     "output_type": "stream",
     "text": [
      "Epoch 33 Client0 : 100%|██████████████████████████████████████████| 181/181 [00:07<00:00, 25.23it/s]\n",
      "Epoch 33 Client1 : 100%|██████████████████████████████████████████| 181/181 [00:06<00:00, 26.36it/s]\n",
      "Epoch 34 Client0 :   0%|                                                    | 0/181 [00:00<?, ?it/s]"
     ]
    },
    {
     "name": "stdout",
     "output_type": "stream",
     "text": [
      "train_loss: 1.4196\n"
     ]
    },
    {
     "name": "stderr",
     "output_type": "stream",
     "text": [
      "Epoch 34 Client0 : 100%|██████████████████████████████████████████| 181/181 [00:07<00:00, 25.21it/s]\n",
      "Epoch 34 Client1 : 100%|██████████████████████████████████████████| 181/181 [00:06<00:00, 26.06it/s]\n",
      "Epoch 35 Client0 :   0%|                                                    | 0/181 [00:00<?, ?it/s]"
     ]
    },
    {
     "name": "stdout",
     "output_type": "stream",
     "text": [
      "train_loss: 1.3729\n"
     ]
    },
    {
     "name": "stderr",
     "output_type": "stream",
     "text": [
      "Epoch 35 Client0 : 100%|██████████████████████████████████████████| 181/181 [00:07<00:00, 25.65it/s]\n",
      "Epoch 35 Client1 : 100%|██████████████████████████████████████████| 181/181 [00:06<00:00, 25.95it/s]\n",
      "Epoch 36 Client0 :   1%|▍                                           | 2/181 [00:00<00:10, 16.83it/s]"
     ]
    },
    {
     "name": "stdout",
     "output_type": "stream",
     "text": [
      "train_loss: 1.2933\n"
     ]
    },
    {
     "name": "stderr",
     "output_type": "stream",
     "text": [
      "Epoch 36 Client0 : 100%|██████████████████████████████████████████| 181/181 [00:06<00:00, 25.87it/s]\n",
      "Epoch 36 Client1 : 100%|██████████████████████████████████████████| 181/181 [00:07<00:00, 25.85it/s]\n",
      "Epoch 37 Client0 :   1%|▍                                           | 2/181 [00:00<00:10, 16.73it/s]"
     ]
    },
    {
     "name": "stdout",
     "output_type": "stream",
     "text": [
      "train_loss: 1.2151\n"
     ]
    },
    {
     "name": "stderr",
     "output_type": "stream",
     "text": [
      "Epoch 37 Client0 : 100%|██████████████████████████████████████████| 181/181 [00:07<00:00, 25.56it/s]\n",
      "Epoch 37 Client1 : 100%|██████████████████████████████████████████| 181/181 [00:06<00:00, 26.09it/s]\n",
      "Epoch 38 Client0 :   1%|▍                                           | 2/181 [00:00<00:10, 17.24it/s]"
     ]
    },
    {
     "name": "stdout",
     "output_type": "stream",
     "text": [
      "train_loss: 1.1627\n"
     ]
    },
    {
     "name": "stderr",
     "output_type": "stream",
     "text": [
      "Epoch 38 Client0 : 100%|██████████████████████████████████████████| 181/181 [00:06<00:00, 26.02it/s]\n",
      "Epoch 38 Client1 : 100%|██████████████████████████████████████████| 181/181 [00:07<00:00, 25.12it/s]\n",
      "Epoch 39 Client0 :   1%|▍                                           | 2/181 [00:00<00:10, 16.65it/s]"
     ]
    },
    {
     "name": "stdout",
     "output_type": "stream",
     "text": [
      "train_loss: 1.0938\n"
     ]
    },
    {
     "name": "stderr",
     "output_type": "stream",
     "text": [
      "Epoch 39 Client0 : 100%|██████████████████████████████████████████| 181/181 [00:07<00:00, 25.48it/s]\n",
      "Epoch 39 Client1 : 100%|██████████████████████████████████████████| 181/181 [00:07<00:00, 25.46it/s]\n",
      "Epoch 40 Client0 :   1%|▍                                           | 2/181 [00:00<00:10, 16.29it/s]"
     ]
    },
    {
     "name": "stdout",
     "output_type": "stream",
     "text": [
      "train_loss: 1.0624\n"
     ]
    },
    {
     "name": "stderr",
     "output_type": "stream",
     "text": [
      "Epoch 40 Client0 : 100%|██████████████████████████████████████████| 181/181 [00:07<00:00, 25.40it/s]\n",
      "Epoch 40 Client1 : 100%|██████████████████████████████████████████| 181/181 [00:06<00:00, 25.86it/s]\n",
      "Epoch 41 Client0 :   1%|▍                                           | 2/181 [00:00<00:10, 16.63it/s]"
     ]
    },
    {
     "name": "stdout",
     "output_type": "stream",
     "text": [
      "train_loss: 1.0550\n"
     ]
    },
    {
     "name": "stderr",
     "output_type": "stream",
     "text": [
      "Epoch 41 Client0 : 100%|██████████████████████████████████████████| 181/181 [00:06<00:00, 25.93it/s]\n",
      "Epoch 41 Client1 : 100%|██████████████████████████████████████████| 181/181 [00:07<00:00, 25.60it/s]\n",
      "Epoch 42 Client0 :   1%|▍                                           | 2/181 [00:00<00:10, 16.65it/s]"
     ]
    },
    {
     "name": "stdout",
     "output_type": "stream",
     "text": [
      "train_loss: 0.9816\n"
     ]
    },
    {
     "name": "stderr",
     "output_type": "stream",
     "text": [
      "Epoch 42 Client0 : 100%|██████████████████████████████████████████| 181/181 [00:07<00:00, 25.76it/s]\n",
      "Epoch 42 Client1 : 100%|██████████████████████████████████████████| 181/181 [00:07<00:00, 25.75it/s]\n",
      "Epoch 43 Client0 :   1%|▍                                           | 2/181 [00:00<00:10, 16.65it/s]"
     ]
    },
    {
     "name": "stdout",
     "output_type": "stream",
     "text": [
      "train_loss: 0.9720\n"
     ]
    },
    {
     "name": "stderr",
     "output_type": "stream",
     "text": [
      "Epoch 43 Client0 : 100%|██████████████████████████████████████████| 181/181 [00:06<00:00, 25.89it/s]\n",
      "Epoch 43 Client1 : 100%|██████████████████████████████████████████| 181/181 [00:07<00:00, 25.52it/s]\n",
      "Epoch 44 Client0 :   0%|                                                    | 0/181 [00:00<?, ?it/s]"
     ]
    },
    {
     "name": "stdout",
     "output_type": "stream",
     "text": [
      "train_loss: 0.9201\n"
     ]
    },
    {
     "name": "stderr",
     "output_type": "stream",
     "text": [
      "Epoch 44 Client0 : 100%|██████████████████████████████████████████| 181/181 [00:07<00:00, 25.21it/s]\n",
      "Epoch 44 Client1 : 100%|██████████████████████████████████████████| 181/181 [00:06<00:00, 26.26it/s]\n",
      "Epoch 45 Client0 :   0%|                                                    | 0/181 [00:00<?, ?it/s]"
     ]
    },
    {
     "name": "stdout",
     "output_type": "stream",
     "text": [
      "train_loss: 0.8577\n"
     ]
    },
    {
     "name": "stderr",
     "output_type": "stream",
     "text": [
      "Epoch 45 Client0 : 100%|██████████████████████████████████████████| 181/181 [00:07<00:00, 25.37it/s]\n",
      "Epoch 45 Client1 : 100%|██████████████████████████████████████████| 181/181 [00:06<00:00, 26.05it/s]\n",
      "Epoch 46 Client0 :   0%|                                                    | 0/181 [00:00<?, ?it/s]"
     ]
    },
    {
     "name": "stdout",
     "output_type": "stream",
     "text": [
      "train_loss: 0.8609\n"
     ]
    },
    {
     "name": "stderr",
     "output_type": "stream",
     "text": [
      "Epoch 46 Client0 : 100%|██████████████████████████████████████████| 181/181 [00:06<00:00, 26.31it/s]\n",
      "Epoch 46 Client1 : 100%|██████████████████████████████████████████| 181/181 [00:07<00:00, 25.58it/s]\n",
      "Epoch 47 Client0 :   0%|                                                    | 0/181 [00:00<?, ?it/s]"
     ]
    },
    {
     "name": "stdout",
     "output_type": "stream",
     "text": [
      "train_loss: 0.8092\n"
     ]
    },
    {
     "name": "stderr",
     "output_type": "stream",
     "text": [
      "Epoch 47 Client0 : 100%|██████████████████████████████████████████| 181/181 [00:07<00:00, 25.40it/s]\n",
      "Epoch 47 Client1 : 100%|██████████████████████████████████████████| 181/181 [00:07<00:00, 25.71it/s]\n",
      "Epoch 48 Client0 :   0%|                                                    | 0/181 [00:00<?, ?it/s]"
     ]
    },
    {
     "name": "stdout",
     "output_type": "stream",
     "text": [
      "train_loss: 0.7574\n"
     ]
    },
    {
     "name": "stderr",
     "output_type": "stream",
     "text": [
      "Epoch 48 Client0 : 100%|██████████████████████████████████████████| 181/181 [00:07<00:00, 24.65it/s]\n",
      "Epoch 48 Client1 : 100%|██████████████████████████████████████████| 181/181 [00:07<00:00, 25.16it/s]\n",
      "Epoch 49 Client0 :   1%|▍                                           | 2/181 [00:00<00:11, 16.24it/s]"
     ]
    },
    {
     "name": "stdout",
     "output_type": "stream",
     "text": [
      "train_loss: 0.7425\n"
     ]
    },
    {
     "name": "stderr",
     "output_type": "stream",
     "text": [
      "Epoch 49 Client0 : 100%|██████████████████████████████████████████| 181/181 [00:07<00:00, 25.34it/s]\n",
      "Epoch 49 Client1 : 100%|██████████████████████████████████████████| 181/181 [00:07<00:00, 25.00it/s]\n",
      "Epoch 50 Client0 :   0%|                                                    | 0/181 [00:00<?, ?it/s]"
     ]
    },
    {
     "name": "stdout",
     "output_type": "stream",
     "text": [
      "train_loss: 0.7332\n"
     ]
    },
    {
     "name": "stderr",
     "output_type": "stream",
     "text": [
      "Epoch 50 Client0 : 100%|██████████████████████████████████████████| 181/181 [00:07<00:00, 25.06it/s]\n",
      "Epoch 50 Client1 : 100%|██████████████████████████████████████████| 181/181 [00:06<00:00, 26.02it/s]\n"
     ]
    },
    {
     "name": "stdout",
     "output_type": "stream",
     "text": [
      "train_loss: 0.6945\n"
     ]
    }
   ],
   "source": [
    "for e in range(EPOCHS):\n",
    "\n",
    "    # train client 0\n",
    "\n",
    "    for user in range(users):\n",
    "\n",
    "        datasize = send_msg(clientsoclist[user], client_weights)\n",
    "        total_sendsize_list.append(datasize)\n",
    "        client_sendsize_list[user].append(datasize)\n",
    "        train_sendsize_list.append(datasize)\n",
    "\n",
    "        for i in tqdm(range(train_total_batch[user]), ncols=100, desc='Epoch {} Client{} '.format(e+1, user)):\n",
    "            optimizer_server.zero_grad()  # initialize all gradients to zero\n",
    "\n",
    "            msg, datasize = recv_msg(clientsoclist[user])  # receive client message from socket\n",
    "            total_receivesize_list.append(datasize)\n",
    "            client_receivesize_list[user].append(datasize)\n",
    "            train_receivesize_list.append(datasize)\n",
    "\n",
    "            client_output_cpu = msg['client_output']  # client output tensor\n",
    "            label = msg['label']  # label\n",
    "\n",
    "            client_output = client_output_cpu.to(device)\n",
    "            label = label.clone().detach().float().to(device)\n",
    "\n",
    "            output = server(client_output)  # forward propagation\n",
    "            loss = criterion(output, label)  # calculates cross-entropy loss\n",
    "            loss.backward()  # backward propagation\n",
    "            msg = client_output_cpu.grad.clone().detach()\n",
    "\n",
    "            datasize = send_msg(clientsoclist[user], msg)\n",
    "            total_sendsize_list.append(datasize)\n",
    "            client_sendsize_list[user].append(datasize)\n",
    "            train_sendsize_list.append(datasize)\n",
    "            \n",
    "            optimizer_server.step()\n",
    "            \n",
    "        client_weights, datasize = recv_msg(clientsoclist[user])\n",
    "        total_receivesize_list.append(datasize)\n",
    "        client_receivesize_list[user].append(datasize)\n",
    "        train_receivesize_list.append(datasize)\n",
    "        \n",
    "        \n",
    "\n",
    "    client.load_state_dict(client_weights)\n",
    "    client.to(device)\n",
    "    client.eval()\n",
    "\n",
    "\n",
    "    # train loss\n",
    "    with torch.no_grad():\n",
    "        train_loss = 0.0\n",
    "        for j, trn in enumerate(train_loader):\n",
    "            trn_age, trn_weight, trn_icd_codes, trn_disease= trn['age'], trn['weight'], trn['icd_codes'], trn['disease']\n",
    "            trn_target = trn['target']\n",
    "            \n",
    "            trn_age = trn_age.to(device)\n",
    "            trn_weight = trn_weight.to(device)\n",
    "            trn_icd_codes = trn_icd_codes.to(device)\n",
    "            trn_disease = trn_disease.to(device)\n",
    "            trn_target = trn_target.to(device)\n",
    "\n",
    "            trn_output = client(trn_age, trn_weight, trn_icd_codes, trn_disease)\n",
    "            trn_output = server(trn_output)\n",
    "            trn_target = trn_target.float()\n",
    "            loss = criterion(trn_output, trn_target)\n",
    "            train_loss += loss.item()\n",
    "\n",
    "        r_train_loss = train_loss / len(train_loader)\n",
    "        print(\"train_loss: {:.4f}\".format(r_train_loss))"
   ]
  },
  {
   "cell_type": "code",
   "execution_count": 33,
   "metadata": {},
   "outputs": [],
   "source": [
    "# host = socket.gethostbyname(socket.gethostname())\n",
    "# port = 10080\n",
    "# print(host)"
   ]
  },
  {
   "cell_type": "markdown",
   "metadata": {},
   "source": [
    "## Train Feedback dataset"
   ]
  },
  {
   "cell_type": "code",
   "execution_count": 34,
   "metadata": {},
   "outputs": [],
   "source": [
    "train_total_batch = []\n",
    "\n",
    "total_sendsize_list = []\n",
    "total_receivesize_list = []\n",
    "\n",
    "client_sendsize_list = [[] for i in range(users)]\n",
    "client_receivesize_list = [[] for i in range(users)]\n",
    "\n",
    "train_sendsize_list = [] \n",
    "train_receivesize_list = []"
   ]
  },
  {
   "cell_type": "code",
   "execution_count": 35,
   "metadata": {},
   "outputs": [],
   "source": [
    "for i in range(users):\n",
    "\n",
    "    datasize = send_msg(clientsoclist[i], EPOCHS)    #send epoch\n",
    "    total_sendsize_list.append(datasize)\n",
    "    client_sendsize_list[i].append(datasize)\n",
    "\n",
    "    total_batch, datasize = recv_msg(clientsoclist[i])    # get total_batch of train dataset\n",
    "    total_receivesize_list.append(datasize)\n",
    "    client_receivesize_list[i].append(datasize)\n",
    "\n",
    "    train_total_batch.append(total_batch)    # append on list"
   ]
  },
  {
   "cell_type": "code",
   "execution_count": 36,
   "metadata": {},
   "outputs": [
    {
     "name": "stderr",
     "output_type": "stream",
     "text": [
      "Epoch 1 Client0 : 100%|█████████████████████████████████████████████| 73/73 [00:02<00:00, 25.74it/s]\n",
      "Epoch 1 Client1 : 100%|█████████████████████████████████████████████| 73/73 [00:02<00:00, 25.92it/s]\n"
     ]
    },
    {
     "name": "stdout",
     "output_type": "stream",
     "text": [
      "train_loss: 3.7204\n"
     ]
    },
    {
     "name": "stderr",
     "output_type": "stream",
     "text": [
      "\r",
      "Epoch 2 Client0 :   0%|                                                      | 0/73 [00:00<?, ?it/s]"
     ]
    },
    {
     "name": "stdout",
     "output_type": "stream",
     "text": [
      "test_loss: 4.7099\n"
     ]
    },
    {
     "name": "stderr",
     "output_type": "stream",
     "text": [
      "Epoch 2 Client0 : 100%|█████████████████████████████████████████████| 73/73 [00:02<00:00, 25.25it/s]\n",
      "Epoch 2 Client1 : 100%|█████████████████████████████████████████████| 73/73 [00:02<00:00, 25.24it/s]\n"
     ]
    },
    {
     "name": "stdout",
     "output_type": "stream",
     "text": [
      "train_loss: 2.8704\n"
     ]
    },
    {
     "name": "stderr",
     "output_type": "stream",
     "text": [
      "\r",
      "Epoch 3 Client0 :   0%|                                                      | 0/73 [00:00<?, ?it/s]"
     ]
    },
    {
     "name": "stdout",
     "output_type": "stream",
     "text": [
      "test_loss: 3.7330\n"
     ]
    },
    {
     "name": "stderr",
     "output_type": "stream",
     "text": [
      "Epoch 3 Client0 : 100%|█████████████████████████████████████████████| 73/73 [00:02<00:00, 25.60it/s]\n",
      "Epoch 3 Client1 : 100%|█████████████████████████████████████████████| 73/73 [00:02<00:00, 25.96it/s]\n"
     ]
    },
    {
     "name": "stdout",
     "output_type": "stream",
     "text": [
      "train_loss: 2.4114\n"
     ]
    },
    {
     "name": "stderr",
     "output_type": "stream",
     "text": [
      "\r",
      "Epoch 4 Client0 :   0%|                                                      | 0/73 [00:00<?, ?it/s]"
     ]
    },
    {
     "name": "stdout",
     "output_type": "stream",
     "text": [
      "test_loss: 3.2287\n"
     ]
    },
    {
     "name": "stderr",
     "output_type": "stream",
     "text": [
      "Epoch 4 Client0 : 100%|█████████████████████████████████████████████| 73/73 [00:02<00:00, 25.71it/s]\n",
      "Epoch 4 Client1 : 100%|█████████████████████████████████████████████| 73/73 [00:02<00:00, 25.38it/s]\n"
     ]
    },
    {
     "name": "stdout",
     "output_type": "stream",
     "text": [
      "train_loss: 2.1356\n"
     ]
    },
    {
     "name": "stderr",
     "output_type": "stream",
     "text": [
      "\r",
      "Epoch 5 Client0 :   0%|                                                      | 0/73 [00:00<?, ?it/s]"
     ]
    },
    {
     "name": "stdout",
     "output_type": "stream",
     "text": [
      "test_loss: 2.9481\n"
     ]
    },
    {
     "name": "stderr",
     "output_type": "stream",
     "text": [
      "Epoch 5 Client0 : 100%|█████████████████████████████████████████████| 73/73 [00:02<00:00, 24.79it/s]\n",
      "Epoch 5 Client1 : 100%|█████████████████████████████████████████████| 73/73 [00:02<00:00, 24.62it/s]\n"
     ]
    },
    {
     "name": "stdout",
     "output_type": "stream",
     "text": [
      "train_loss: 1.8729\n"
     ]
    },
    {
     "name": "stderr",
     "output_type": "stream",
     "text": [
      "\r",
      "Epoch 6 Client0 :   0%|                                                      | 0/73 [00:00<?, ?it/s]"
     ]
    },
    {
     "name": "stdout",
     "output_type": "stream",
     "text": [
      "test_loss: 2.6487\n"
     ]
    },
    {
     "name": "stderr",
     "output_type": "stream",
     "text": [
      "Epoch 6 Client0 : 100%|█████████████████████████████████████████████| 73/73 [00:02<00:00, 25.24it/s]\n",
      "Epoch 6 Client1 : 100%|█████████████████████████████████████████████| 73/73 [00:02<00:00, 25.45it/s]\n"
     ]
    },
    {
     "name": "stdout",
     "output_type": "stream",
     "text": [
      "train_loss: 1.5278\n"
     ]
    },
    {
     "name": "stderr",
     "output_type": "stream",
     "text": [
      "Epoch 7 Client0 :   3%|█▎                                            | 2/73 [00:00<00:04, 15.99it/s]"
     ]
    },
    {
     "name": "stdout",
     "output_type": "stream",
     "text": [
      "test_loss: 2.2627\n"
     ]
    },
    {
     "name": "stderr",
     "output_type": "stream",
     "text": [
      "Epoch 7 Client0 : 100%|█████████████████████████████████████████████| 73/73 [00:02<00:00, 25.40it/s]\n",
      "Epoch 7 Client1 : 100%|█████████████████████████████████████████████| 73/73 [00:02<00:00, 25.53it/s]\n"
     ]
    },
    {
     "name": "stdout",
     "output_type": "stream",
     "text": [
      "train_loss: 1.3156\n"
     ]
    },
    {
     "name": "stderr",
     "output_type": "stream",
     "text": [
      "\r",
      "Epoch 8 Client0 :   0%|                                                      | 0/73 [00:00<?, ?it/s]"
     ]
    },
    {
     "name": "stdout",
     "output_type": "stream",
     "text": [
      "test_loss: 2.0278\n"
     ]
    },
    {
     "name": "stderr",
     "output_type": "stream",
     "text": [
      "Epoch 8 Client0 : 100%|█████████████████████████████████████████████| 73/73 [00:03<00:00, 24.17it/s]\n",
      "Epoch 8 Client1 : 100%|█████████████████████████████████████████████| 73/73 [00:02<00:00, 25.11it/s]\n"
     ]
    },
    {
     "name": "stdout",
     "output_type": "stream",
     "text": [
      "train_loss: 1.1231\n"
     ]
    },
    {
     "name": "stderr",
     "output_type": "stream",
     "text": [
      "\r",
      "Epoch 9 Client0 :   0%|                                                      | 0/73 [00:00<?, ?it/s]"
     ]
    },
    {
     "name": "stdout",
     "output_type": "stream",
     "text": [
      "test_loss: 1.8122\n"
     ]
    },
    {
     "name": "stderr",
     "output_type": "stream",
     "text": [
      "Epoch 9 Client0 : 100%|█████████████████████████████████████████████| 73/73 [00:02<00:00, 25.28it/s]\n",
      "Epoch 9 Client1 : 100%|█████████████████████████████████████████████| 73/73 [00:03<00:00, 23.46it/s]\n"
     ]
    },
    {
     "name": "stdout",
     "output_type": "stream",
     "text": [
      "train_loss: 0.9576\n"
     ]
    },
    {
     "name": "stderr",
     "output_type": "stream",
     "text": [
      "\r",
      "Epoch 10 Client0 :   0%|                                                     | 0/73 [00:00<?, ?it/s]"
     ]
    },
    {
     "name": "stdout",
     "output_type": "stream",
     "text": [
      "test_loss: 1.6268\n"
     ]
    },
    {
     "name": "stderr",
     "output_type": "stream",
     "text": [
      "Epoch 10 Client0 : 100%|████████████████████████████████████████████| 73/73 [00:02<00:00, 25.51it/s]\n",
      "Epoch 10 Client1 : 100%|████████████████████████████████████████████| 73/73 [00:02<00:00, 25.59it/s]\n"
     ]
    },
    {
     "name": "stdout",
     "output_type": "stream",
     "text": [
      "train_loss: 0.8018\n"
     ]
    },
    {
     "name": "stderr",
     "output_type": "stream",
     "text": [
      "\r",
      "Epoch 11 Client0 :   0%|                                                     | 0/73 [00:00<?, ?it/s]"
     ]
    },
    {
     "name": "stdout",
     "output_type": "stream",
     "text": [
      "test_loss: 1.4456\n"
     ]
    },
    {
     "name": "stderr",
     "output_type": "stream",
     "text": [
      "Epoch 11 Client0 : 100%|████████████████████████████████████████████| 73/73 [00:02<00:00, 25.54it/s]\n",
      "Epoch 11 Client1 : 100%|████████████████████████████████████████████| 73/73 [00:02<00:00, 25.61it/s]\n"
     ]
    },
    {
     "name": "stdout",
     "output_type": "stream",
     "text": [
      "train_loss: 0.6611\n"
     ]
    },
    {
     "name": "stderr",
     "output_type": "stream",
     "text": [
      "\r",
      "Epoch 12 Client0 :   0%|                                                     | 0/73 [00:00<?, ?it/s]"
     ]
    },
    {
     "name": "stdout",
     "output_type": "stream",
     "text": [
      "test_loss: 1.2893\n"
     ]
    },
    {
     "name": "stderr",
     "output_type": "stream",
     "text": [
      "Epoch 12 Client0 : 100%|████████████████████████████████████████████| 73/73 [00:03<00:00, 22.73it/s]\n",
      "Epoch 12 Client1 : 100%|████████████████████████████████████████████| 73/73 [00:02<00:00, 25.44it/s]\n"
     ]
    },
    {
     "name": "stdout",
     "output_type": "stream",
     "text": [
      "train_loss: 0.5637\n"
     ]
    },
    {
     "name": "stderr",
     "output_type": "stream",
     "text": [
      "\r",
      "Epoch 13 Client0 :   0%|                                                     | 0/73 [00:00<?, ?it/s]"
     ]
    },
    {
     "name": "stdout",
     "output_type": "stream",
     "text": [
      "test_loss: 1.1852\n"
     ]
    },
    {
     "name": "stderr",
     "output_type": "stream",
     "text": [
      "Epoch 13 Client0 : 100%|████████████████████████████████████████████| 73/73 [00:02<00:00, 25.13it/s]\n",
      "Epoch 13 Client1 : 100%|████████████████████████████████████████████| 73/73 [00:02<00:00, 25.61it/s]\n"
     ]
    },
    {
     "name": "stdout",
     "output_type": "stream",
     "text": [
      "train_loss: 0.4880\n"
     ]
    },
    {
     "name": "stderr",
     "output_type": "stream",
     "text": [
      "\r",
      "Epoch 14 Client0 :   0%|                                                     | 0/73 [00:00<?, ?it/s]"
     ]
    },
    {
     "name": "stdout",
     "output_type": "stream",
     "text": [
      "test_loss: 1.0983\n"
     ]
    },
    {
     "name": "stderr",
     "output_type": "stream",
     "text": [
      "Epoch 14 Client0 : 100%|████████████████████████████████████████████| 73/73 [00:02<00:00, 24.79it/s]\n",
      "Epoch 14 Client1 : 100%|████████████████████████████████████████████| 73/73 [00:02<00:00, 25.57it/s]\n"
     ]
    },
    {
     "name": "stdout",
     "output_type": "stream",
     "text": [
      "train_loss: 0.4016\n"
     ]
    },
    {
     "name": "stderr",
     "output_type": "stream",
     "text": [
      "Epoch 15 Client0 :   3%|█▏                                           | 2/73 [00:00<00:04, 16.80it/s]"
     ]
    },
    {
     "name": "stdout",
     "output_type": "stream",
     "text": [
      "test_loss: 0.9991\n"
     ]
    },
    {
     "name": "stderr",
     "output_type": "stream",
     "text": [
      "Epoch 15 Client0 : 100%|████████████████████████████████████████████| 73/73 [00:02<00:00, 25.26it/s]\n",
      "Epoch 15 Client1 : 100%|████████████████████████████████████████████| 73/73 [00:02<00:00, 25.65it/s]\n"
     ]
    },
    {
     "name": "stdout",
     "output_type": "stream",
     "text": [
      "train_loss: 0.3213\n"
     ]
    },
    {
     "name": "stderr",
     "output_type": "stream",
     "text": [
      "Epoch 16 Client0 :   3%|█▏                                           | 2/73 [00:00<00:04, 16.68it/s]"
     ]
    },
    {
     "name": "stdout",
     "output_type": "stream",
     "text": [
      "test_loss: 0.8972\n"
     ]
    },
    {
     "name": "stderr",
     "output_type": "stream",
     "text": [
      "Epoch 16 Client0 : 100%|████████████████████████████████████████████| 73/73 [00:02<00:00, 24.92it/s]\n",
      "Epoch 16 Client1 : 100%|████████████████████████████████████████████| 73/73 [00:02<00:00, 25.02it/s]\n"
     ]
    },
    {
     "name": "stdout",
     "output_type": "stream",
     "text": [
      "train_loss: 0.3002\n"
     ]
    },
    {
     "name": "stderr",
     "output_type": "stream",
     "text": [
      "\r",
      "Epoch 17 Client0 :   0%|                                                     | 0/73 [00:00<?, ?it/s]"
     ]
    },
    {
     "name": "stdout",
     "output_type": "stream",
     "text": [
      "test_loss: 0.8750\n"
     ]
    },
    {
     "name": "stderr",
     "output_type": "stream",
     "text": [
      "Epoch 17 Client0 : 100%|████████████████████████████████████████████| 73/73 [00:03<00:00, 24.28it/s]\n",
      "Epoch 17 Client1 : 100%|████████████████████████████████████████████| 73/73 [00:03<00:00, 21.98it/s]\n"
     ]
    },
    {
     "name": "stdout",
     "output_type": "stream",
     "text": [
      "train_loss: 0.2765\n"
     ]
    },
    {
     "name": "stderr",
     "output_type": "stream",
     "text": [
      "\r",
      "Epoch 18 Client0 :   0%|                                                     | 0/73 [00:00<?, ?it/s]"
     ]
    },
    {
     "name": "stdout",
     "output_type": "stream",
     "text": [
      "test_loss: 0.8547\n"
     ]
    },
    {
     "name": "stderr",
     "output_type": "stream",
     "text": [
      "Epoch 18 Client0 : 100%|████████████████████████████████████████████| 73/73 [00:02<00:00, 26.42it/s]\n",
      "Epoch 18 Client1 : 100%|████████████████████████████████████████████| 73/73 [00:02<00:00, 26.16it/s]\n"
     ]
    },
    {
     "name": "stdout",
     "output_type": "stream",
     "text": [
      "train_loss: 0.2505\n"
     ]
    },
    {
     "name": "stderr",
     "output_type": "stream",
     "text": [
      "Epoch 19 Client0 :   3%|█▏                                           | 2/73 [00:00<00:04, 17.46it/s]"
     ]
    },
    {
     "name": "stdout",
     "output_type": "stream",
     "text": [
      "test_loss: 0.8198\n"
     ]
    },
    {
     "name": "stderr",
     "output_type": "stream",
     "text": [
      "Epoch 19 Client0 : 100%|████████████████████████████████████████████| 73/73 [00:02<00:00, 26.27it/s]\n",
      "Epoch 19 Client1 : 100%|████████████████████████████████████████████| 73/73 [00:02<00:00, 26.42it/s]\n"
     ]
    },
    {
     "name": "stdout",
     "output_type": "stream",
     "text": [
      "train_loss: 0.2202\n"
     ]
    },
    {
     "name": "stderr",
     "output_type": "stream",
     "text": [
      "\r",
      "Epoch 20 Client0 :   0%|                                                     | 0/73 [00:00<?, ?it/s]"
     ]
    },
    {
     "name": "stdout",
     "output_type": "stream",
     "text": [
      "test_loss: 0.7777\n"
     ]
    },
    {
     "name": "stderr",
     "output_type": "stream",
     "text": [
      "Epoch 20 Client0 : 100%|████████████████████████████████████████████| 73/73 [00:03<00:00, 24.09it/s]\n",
      "Epoch 20 Client1 : 100%|████████████████████████████████████████████| 73/73 [00:02<00:00, 25.71it/s]\n"
     ]
    },
    {
     "name": "stdout",
     "output_type": "stream",
     "text": [
      "train_loss: 0.2130\n"
     ]
    },
    {
     "name": "stderr",
     "output_type": "stream",
     "text": [
      "Epoch 21 Client0 :   3%|█▏                                           | 2/73 [00:00<00:04, 17.01it/s]"
     ]
    },
    {
     "name": "stdout",
     "output_type": "stream",
     "text": [
      "test_loss: 0.7794\n"
     ]
    },
    {
     "name": "stderr",
     "output_type": "stream",
     "text": [
      "Epoch 21 Client0 : 100%|████████████████████████████████████████████| 73/73 [00:02<00:00, 26.68it/s]\n",
      "Epoch 21 Client1 : 100%|████████████████████████████████████████████| 73/73 [00:02<00:00, 25.63it/s]\n"
     ]
    },
    {
     "name": "stdout",
     "output_type": "stream",
     "text": [
      "train_loss: 0.2005\n"
     ]
    },
    {
     "name": "stderr",
     "output_type": "stream",
     "text": [
      "Epoch 22 Client0 :   3%|█▏                                           | 2/73 [00:00<00:04, 17.23it/s]"
     ]
    },
    {
     "name": "stdout",
     "output_type": "stream",
     "text": [
      "test_loss: 0.7628\n"
     ]
    },
    {
     "name": "stderr",
     "output_type": "stream",
     "text": [
      "Epoch 22 Client0 : 100%|████████████████████████████████████████████| 73/73 [00:02<00:00, 26.57it/s]\n",
      "Epoch 22 Client1 : 100%|████████████████████████████████████████████| 73/73 [00:02<00:00, 25.88it/s]\n"
     ]
    },
    {
     "name": "stdout",
     "output_type": "stream",
     "text": [
      "train_loss: 0.1835\n"
     ]
    },
    {
     "name": "stderr",
     "output_type": "stream",
     "text": [
      "Epoch 23 Client0 :   3%|█▏                                           | 2/73 [00:00<00:04, 17.13it/s]"
     ]
    },
    {
     "name": "stdout",
     "output_type": "stream",
     "text": [
      "test_loss: 0.7386\n"
     ]
    },
    {
     "name": "stderr",
     "output_type": "stream",
     "text": [
      "Epoch 23 Client0 : 100%|████████████████████████████████████████████| 73/73 [00:02<00:00, 25.40it/s]\n",
      "Epoch 23 Client1 : 100%|████████████████████████████████████████████| 73/73 [00:02<00:00, 26.37it/s]\n"
     ]
    },
    {
     "name": "stdout",
     "output_type": "stream",
     "text": [
      "train_loss: 0.1750\n"
     ]
    },
    {
     "name": "stderr",
     "output_type": "stream",
     "text": [
      "\r",
      "Epoch 24 Client0 :   0%|                                                     | 0/73 [00:00<?, ?it/s]"
     ]
    },
    {
     "name": "stdout",
     "output_type": "stream",
     "text": [
      "test_loss: 0.7233\n"
     ]
    },
    {
     "name": "stderr",
     "output_type": "stream",
     "text": [
      "Epoch 24 Client0 : 100%|████████████████████████████████████████████| 73/73 [00:02<00:00, 25.02it/s]\n",
      "Epoch 24 Client1 : 100%|████████████████████████████████████████████| 73/73 [00:02<00:00, 25.76it/s]\n"
     ]
    },
    {
     "name": "stdout",
     "output_type": "stream",
     "text": [
      "train_loss: 0.1701\n"
     ]
    },
    {
     "name": "stderr",
     "output_type": "stream",
     "text": [
      "Epoch 25 Client0 :   3%|█▏                                           | 2/73 [00:00<00:04, 17.24it/s]"
     ]
    },
    {
     "name": "stdout",
     "output_type": "stream",
     "text": [
      "test_loss: 0.7211\n"
     ]
    },
    {
     "name": "stderr",
     "output_type": "stream",
     "text": [
      "Epoch 25 Client0 : 100%|████████████████████████████████████████████| 73/73 [00:03<00:00, 23.20it/s]\n",
      "Epoch 25 Client1 : 100%|████████████████████████████████████████████| 73/73 [00:03<00:00, 21.76it/s]\n"
     ]
    },
    {
     "name": "stdout",
     "output_type": "stream",
     "text": [
      "train_loss: 0.1603\n"
     ]
    },
    {
     "name": "stderr",
     "output_type": "stream",
     "text": [
      "Epoch 26 Client0 :   3%|█▏                                           | 2/73 [00:00<00:04, 17.52it/s]"
     ]
    },
    {
     "name": "stdout",
     "output_type": "stream",
     "text": [
      "test_loss: 0.7029\n"
     ]
    },
    {
     "name": "stderr",
     "output_type": "stream",
     "text": [
      "Epoch 26 Client0 : 100%|████████████████████████████████████████████| 73/73 [00:02<00:00, 26.49it/s]\n",
      "Epoch 26 Client1 : 100%|████████████████████████████████████████████| 73/73 [00:02<00:00, 26.21it/s]\n"
     ]
    },
    {
     "name": "stdout",
     "output_type": "stream",
     "text": [
      "train_loss: 0.1526\n"
     ]
    },
    {
     "name": "stderr",
     "output_type": "stream",
     "text": [
      "Epoch 27 Client0 :   3%|█▏                                           | 2/73 [00:00<00:04, 17.09it/s]"
     ]
    },
    {
     "name": "stdout",
     "output_type": "stream",
     "text": [
      "test_loss: 0.6874\n"
     ]
    },
    {
     "name": "stderr",
     "output_type": "stream",
     "text": [
      "Epoch 27 Client0 : 100%|████████████████████████████████████████████| 73/73 [00:02<00:00, 26.82it/s]\n",
      "Epoch 27 Client1 : 100%|████████████████████████████████████████████| 73/73 [00:02<00:00, 26.08it/s]\n"
     ]
    },
    {
     "name": "stdout",
     "output_type": "stream",
     "text": [
      "train_loss: 0.1483\n"
     ]
    },
    {
     "name": "stderr",
     "output_type": "stream",
     "text": [
      "Epoch 28 Client0 :   3%|█▏                                           | 2/73 [00:00<00:04, 17.29it/s]"
     ]
    },
    {
     "name": "stdout",
     "output_type": "stream",
     "text": [
      "test_loss: 0.6828\n"
     ]
    },
    {
     "name": "stderr",
     "output_type": "stream",
     "text": [
      "Epoch 28 Client0 : 100%|████████████████████████████████████████████| 73/73 [00:02<00:00, 26.62it/s]\n",
      "Epoch 28 Client1 : 100%|████████████████████████████████████████████| 73/73 [00:02<00:00, 25.94it/s]\n"
     ]
    },
    {
     "name": "stdout",
     "output_type": "stream",
     "text": [
      "train_loss: 0.1445\n"
     ]
    },
    {
     "name": "stderr",
     "output_type": "stream",
     "text": [
      "Epoch 29 Client0 :   3%|█▏                                           | 2/73 [00:00<00:03, 17.81it/s]"
     ]
    },
    {
     "name": "stdout",
     "output_type": "stream",
     "text": [
      "test_loss: 0.6731\n"
     ]
    },
    {
     "name": "stderr",
     "output_type": "stream",
     "text": [
      "Epoch 29 Client0 : 100%|████████████████████████████████████████████| 73/73 [00:02<00:00, 26.93it/s]\n",
      "Epoch 29 Client1 : 100%|████████████████████████████████████████████| 73/73 [00:02<00:00, 26.01it/s]\n"
     ]
    },
    {
     "name": "stdout",
     "output_type": "stream",
     "text": [
      "train_loss: 0.1427\n"
     ]
    },
    {
     "name": "stderr",
     "output_type": "stream",
     "text": [
      "Epoch 30 Client0 :   3%|█▏                                           | 2/73 [00:00<00:04, 17.70it/s]"
     ]
    },
    {
     "name": "stdout",
     "output_type": "stream",
     "text": [
      "test_loss: 0.6750\n"
     ]
    },
    {
     "name": "stderr",
     "output_type": "stream",
     "text": [
      "Epoch 30 Client0 : 100%|████████████████████████████████████████████| 73/73 [00:02<00:00, 26.83it/s]\n",
      "Epoch 30 Client1 : 100%|████████████████████████████████████████████| 73/73 [00:02<00:00, 25.92it/s]\n"
     ]
    },
    {
     "name": "stdout",
     "output_type": "stream",
     "text": [
      "train_loss: 0.1402\n"
     ]
    },
    {
     "name": "stderr",
     "output_type": "stream",
     "text": [
      "Epoch 31 Client0 :   3%|█▏                                           | 2/73 [00:00<00:04, 17.42it/s]"
     ]
    },
    {
     "name": "stdout",
     "output_type": "stream",
     "text": [
      "test_loss: 0.6686\n"
     ]
    },
    {
     "name": "stderr",
     "output_type": "stream",
     "text": [
      "Epoch 31 Client0 : 100%|████████████████████████████████████████████| 73/73 [00:02<00:00, 26.05it/s]\n",
      "Epoch 31 Client1 : 100%|████████████████████████████████████████████| 73/73 [00:02<00:00, 26.11it/s]\n"
     ]
    },
    {
     "name": "stdout",
     "output_type": "stream",
     "text": [
      "train_loss: 0.1397\n"
     ]
    },
    {
     "name": "stderr",
     "output_type": "stream",
     "text": [
      "Epoch 32 Client0 :   3%|█▏                                           | 2/73 [00:00<00:04, 17.14it/s]"
     ]
    },
    {
     "name": "stdout",
     "output_type": "stream",
     "text": [
      "test_loss: 0.6691\n"
     ]
    },
    {
     "name": "stderr",
     "output_type": "stream",
     "text": [
      "Epoch 32 Client0 : 100%|████████████████████████████████████████████| 73/73 [00:02<00:00, 26.09it/s]\n",
      "Epoch 32 Client1 : 100%|████████████████████████████████████████████| 73/73 [00:02<00:00, 25.21it/s]\n"
     ]
    },
    {
     "name": "stdout",
     "output_type": "stream",
     "text": [
      "train_loss: 0.1374\n"
     ]
    },
    {
     "name": "stderr",
     "output_type": "stream",
     "text": [
      "Epoch 33 Client0 :   3%|█▏                                           | 2/73 [00:00<00:04, 17.39it/s]"
     ]
    },
    {
     "name": "stdout",
     "output_type": "stream",
     "text": [
      "test_loss: 0.6562\n"
     ]
    },
    {
     "name": "stderr",
     "output_type": "stream",
     "text": [
      "Epoch 33 Client0 : 100%|████████████████████████████████████████████| 73/73 [00:02<00:00, 26.71it/s]\n",
      "Epoch 33 Client1 : 100%|████████████████████████████████████████████| 73/73 [00:02<00:00, 25.68it/s]\n"
     ]
    },
    {
     "name": "stdout",
     "output_type": "stream",
     "text": [
      "train_loss: 0.1331\n"
     ]
    },
    {
     "name": "stderr",
     "output_type": "stream",
     "text": [
      "Epoch 34 Client0 :   3%|█▏                                           | 2/73 [00:00<00:04, 16.65it/s]"
     ]
    },
    {
     "name": "stdout",
     "output_type": "stream",
     "text": [
      "test_loss: 0.6594\n"
     ]
    },
    {
     "name": "stderr",
     "output_type": "stream",
     "text": [
      "Epoch 34 Client0 : 100%|████████████████████████████████████████████| 73/73 [00:02<00:00, 26.20it/s]\n",
      "Epoch 34 Client1 : 100%|████████████████████████████████████████████| 73/73 [00:02<00:00, 26.00it/s]\n"
     ]
    },
    {
     "name": "stdout",
     "output_type": "stream",
     "text": [
      "train_loss: 0.1316\n"
     ]
    },
    {
     "name": "stderr",
     "output_type": "stream",
     "text": [
      "Epoch 35 Client0 :   3%|█▏                                           | 2/73 [00:00<00:04, 17.36it/s]"
     ]
    },
    {
     "name": "stdout",
     "output_type": "stream",
     "text": [
      "test_loss: 0.6575\n"
     ]
    },
    {
     "name": "stderr",
     "output_type": "stream",
     "text": [
      "Epoch 35 Client0 : 100%|████████████████████████████████████████████| 73/73 [00:02<00:00, 25.96it/s]\n",
      "Epoch 35 Client1 : 100%|████████████████████████████████████████████| 73/73 [00:02<00:00, 26.22it/s]\n"
     ]
    },
    {
     "name": "stdout",
     "output_type": "stream",
     "text": [
      "train_loss: 0.1328\n"
     ]
    },
    {
     "name": "stderr",
     "output_type": "stream",
     "text": [
      "Epoch 36 Client0 :   3%|█▏                                           | 2/73 [00:00<00:04, 17.55it/s]"
     ]
    },
    {
     "name": "stdout",
     "output_type": "stream",
     "text": [
      "test_loss: 0.6526\n"
     ]
    },
    {
     "name": "stderr",
     "output_type": "stream",
     "text": [
      "Epoch 36 Client0 : 100%|████████████████████████████████████████████| 73/73 [00:02<00:00, 26.74it/s]\n",
      "Epoch 36 Client1 : 100%|████████████████████████████████████████████| 73/73 [00:02<00:00, 25.82it/s]\n"
     ]
    },
    {
     "name": "stdout",
     "output_type": "stream",
     "text": [
      "train_loss: 0.1320\n"
     ]
    },
    {
     "name": "stderr",
     "output_type": "stream",
     "text": [
      "Epoch 37 Client0 :   3%|█▏                                           | 2/73 [00:00<00:04, 17.64it/s]"
     ]
    },
    {
     "name": "stdout",
     "output_type": "stream",
     "text": [
      "test_loss: 0.6492\n"
     ]
    },
    {
     "name": "stderr",
     "output_type": "stream",
     "text": [
      "Epoch 37 Client0 : 100%|████████████████████████████████████████████| 73/73 [00:03<00:00, 24.31it/s]\n",
      "Epoch 37 Client1 : 100%|████████████████████████████████████████████| 73/73 [00:02<00:00, 25.91it/s]\n"
     ]
    },
    {
     "name": "stdout",
     "output_type": "stream",
     "text": [
      "train_loss: 0.1316\n"
     ]
    },
    {
     "name": "stderr",
     "output_type": "stream",
     "text": [
      "Epoch 38 Client0 :   3%|█▏                                           | 2/73 [00:00<00:03, 17.82it/s]"
     ]
    },
    {
     "name": "stdout",
     "output_type": "stream",
     "text": [
      "test_loss: 0.6482\n"
     ]
    },
    {
     "name": "stderr",
     "output_type": "stream",
     "text": [
      "Epoch 38 Client0 : 100%|████████████████████████████████████████████| 73/73 [00:02<00:00, 25.95it/s]\n",
      "Epoch 38 Client1 : 100%|████████████████████████████████████████████| 73/73 [00:03<00:00, 24.24it/s]\n"
     ]
    },
    {
     "name": "stdout",
     "output_type": "stream",
     "text": [
      "train_loss: 0.1315\n"
     ]
    },
    {
     "name": "stderr",
     "output_type": "stream",
     "text": [
      "Epoch 39 Client0 :   3%|█▏                                           | 2/73 [00:00<00:04, 17.71it/s]"
     ]
    },
    {
     "name": "stdout",
     "output_type": "stream",
     "text": [
      "test_loss: 0.6491\n"
     ]
    },
    {
     "name": "stderr",
     "output_type": "stream",
     "text": [
      "Epoch 39 Client0 : 100%|████████████████████████████████████████████| 73/73 [00:02<00:00, 26.04it/s]\n",
      "Epoch 39 Client1 : 100%|████████████████████████████████████████████| 73/73 [00:02<00:00, 25.70it/s]\n"
     ]
    },
    {
     "name": "stdout",
     "output_type": "stream",
     "text": [
      "train_loss: 0.1329\n"
     ]
    },
    {
     "name": "stderr",
     "output_type": "stream",
     "text": [
      "Epoch 40 Client0 :   3%|█▏                                           | 2/73 [00:00<00:04, 17.48it/s]"
     ]
    },
    {
     "name": "stdout",
     "output_type": "stream",
     "text": [
      "test_loss: 0.6493\n"
     ]
    },
    {
     "name": "stderr",
     "output_type": "stream",
     "text": [
      "Epoch 40 Client0 : 100%|████████████████████████████████████████████| 73/73 [00:02<00:00, 26.25it/s]\n",
      "Epoch 40 Client1 : 100%|████████████████████████████████████████████| 73/73 [00:02<00:00, 25.59it/s]\n"
     ]
    },
    {
     "name": "stdout",
     "output_type": "stream",
     "text": [
      "train_loss: 0.1314\n"
     ]
    },
    {
     "name": "stderr",
     "output_type": "stream",
     "text": [
      "Epoch 41 Client0 :   3%|█▏                                           | 2/73 [00:00<00:04, 17.36it/s]"
     ]
    },
    {
     "name": "stdout",
     "output_type": "stream",
     "text": [
      "test_loss: 0.6489\n"
     ]
    },
    {
     "name": "stderr",
     "output_type": "stream",
     "text": [
      "Epoch 41 Client0 : 100%|████████████████████████████████████████████| 73/73 [00:02<00:00, 26.59it/s]\n",
      "Epoch 41 Client1 : 100%|████████████████████████████████████████████| 73/73 [00:02<00:00, 26.11it/s]\n"
     ]
    },
    {
     "name": "stdout",
     "output_type": "stream",
     "text": [
      "train_loss: 0.1274\n"
     ]
    },
    {
     "name": "stderr",
     "output_type": "stream",
     "text": [
      "Epoch 42 Client0 :   3%|█▏                                           | 2/73 [00:00<00:03, 17.85it/s]"
     ]
    },
    {
     "name": "stdout",
     "output_type": "stream",
     "text": [
      "test_loss: 0.6418\n"
     ]
    },
    {
     "name": "stderr",
     "output_type": "stream",
     "text": [
      "Epoch 42 Client0 : 100%|████████████████████████████████████████████| 73/73 [00:02<00:00, 26.62it/s]\n",
      "Epoch 42 Client1 : 100%|████████████████████████████████████████████| 73/73 [00:02<00:00, 26.06it/s]\n"
     ]
    },
    {
     "name": "stdout",
     "output_type": "stream",
     "text": [
      "train_loss: 0.1334\n"
     ]
    },
    {
     "name": "stderr",
     "output_type": "stream",
     "text": [
      "Epoch 43 Client0 :   3%|█▏                                           | 2/73 [00:00<00:04, 17.33it/s]"
     ]
    },
    {
     "name": "stdout",
     "output_type": "stream",
     "text": [
      "test_loss: 0.6517\n"
     ]
    },
    {
     "name": "stderr",
     "output_type": "stream",
     "text": [
      "Epoch 43 Client0 : 100%|████████████████████████████████████████████| 73/73 [00:02<00:00, 26.03it/s]\n",
      "Epoch 43 Client1 : 100%|████████████████████████████████████████████| 73/73 [00:02<00:00, 25.13it/s]\n"
     ]
    },
    {
     "name": "stdout",
     "output_type": "stream",
     "text": [
      "train_loss: 0.1296\n"
     ]
    },
    {
     "name": "stderr",
     "output_type": "stream",
     "text": [
      "Epoch 44 Client0 :   3%|█▏                                           | 2/73 [00:00<00:04, 17.50it/s]"
     ]
    },
    {
     "name": "stdout",
     "output_type": "stream",
     "text": [
      "test_loss: 0.6564\n"
     ]
    },
    {
     "name": "stderr",
     "output_type": "stream",
     "text": [
      "Epoch 44 Client0 : 100%|████████████████████████████████████████████| 73/73 [00:02<00:00, 25.98it/s]\n",
      "Epoch 44 Client1 : 100%|████████████████████████████████████████████| 73/73 [00:02<00:00, 25.31it/s]\n"
     ]
    },
    {
     "name": "stdout",
     "output_type": "stream",
     "text": [
      "train_loss: 0.1288\n"
     ]
    },
    {
     "name": "stderr",
     "output_type": "stream",
     "text": [
      "Epoch 45 Client0 :   3%|█▏                                           | 2/73 [00:00<00:04, 16.89it/s]"
     ]
    },
    {
     "name": "stdout",
     "output_type": "stream",
     "text": [
      "test_loss: 0.6517\n"
     ]
    },
    {
     "name": "stderr",
     "output_type": "stream",
     "text": [
      "Epoch 45 Client0 : 100%|████████████████████████████████████████████| 73/73 [00:02<00:00, 25.95it/s]\n",
      "Epoch 45 Client1 : 100%|████████████████████████████████████████████| 73/73 [00:02<00:00, 26.28it/s]\n"
     ]
    },
    {
     "name": "stdout",
     "output_type": "stream",
     "text": [
      "train_loss: 0.1272\n"
     ]
    },
    {
     "name": "stderr",
     "output_type": "stream",
     "text": [
      "Epoch 46 Client0 :   3%|█▏                                           | 2/73 [00:00<00:04, 17.41it/s]"
     ]
    },
    {
     "name": "stdout",
     "output_type": "stream",
     "text": [
      "test_loss: 0.6434\n"
     ]
    },
    {
     "name": "stderr",
     "output_type": "stream",
     "text": [
      "Epoch 46 Client0 : 100%|████████████████████████████████████████████| 73/73 [00:02<00:00, 26.58it/s]\n",
      "Epoch 46 Client1 : 100%|████████████████████████████████████████████| 73/73 [00:02<00:00, 25.01it/s]\n"
     ]
    },
    {
     "name": "stdout",
     "output_type": "stream",
     "text": [
      "train_loss: 0.1309\n"
     ]
    },
    {
     "name": "stderr",
     "output_type": "stream",
     "text": [
      "Epoch 47 Client0 :   3%|█▏                                           | 2/73 [00:00<00:03, 17.89it/s]"
     ]
    },
    {
     "name": "stdout",
     "output_type": "stream",
     "text": [
      "test_loss: 0.6451\n"
     ]
    },
    {
     "name": "stderr",
     "output_type": "stream",
     "text": [
      "Epoch 47 Client0 : 100%|████████████████████████████████████████████| 73/73 [00:02<00:00, 26.51it/s]\n",
      "Epoch 47 Client1 : 100%|████████████████████████████████████████████| 73/73 [00:02<00:00, 25.59it/s]\n"
     ]
    },
    {
     "name": "stdout",
     "output_type": "stream",
     "text": [
      "train_loss: 0.1294\n"
     ]
    },
    {
     "name": "stderr",
     "output_type": "stream",
     "text": [
      "Epoch 48 Client0 :   3%|█▏                                           | 2/73 [00:00<00:04, 17.32it/s]"
     ]
    },
    {
     "name": "stdout",
     "output_type": "stream",
     "text": [
      "test_loss: 0.6387\n"
     ]
    },
    {
     "name": "stderr",
     "output_type": "stream",
     "text": [
      "Epoch 48 Client0 : 100%|████████████████████████████████████████████| 73/73 [00:02<00:00, 26.83it/s]\n",
      "Epoch 48 Client1 : 100%|████████████████████████████████████████████| 73/73 [00:02<00:00, 25.76it/s]\n"
     ]
    },
    {
     "name": "stdout",
     "output_type": "stream",
     "text": [
      "train_loss: 0.1308\n"
     ]
    },
    {
     "name": "stderr",
     "output_type": "stream",
     "text": [
      "Epoch 49 Client0 :   3%|█▏                                           | 2/73 [00:00<00:04, 17.71it/s]"
     ]
    },
    {
     "name": "stdout",
     "output_type": "stream",
     "text": [
      "test_loss: 0.6416\n"
     ]
    },
    {
     "name": "stderr",
     "output_type": "stream",
     "text": [
      "Epoch 49 Client0 : 100%|████████████████████████████████████████████| 73/73 [00:02<00:00, 26.12it/s]\n",
      "Epoch 49 Client1 : 100%|████████████████████████████████████████████| 73/73 [00:02<00:00, 26.12it/s]\n"
     ]
    },
    {
     "name": "stdout",
     "output_type": "stream",
     "text": [
      "train_loss: 0.1254\n"
     ]
    },
    {
     "name": "stderr",
     "output_type": "stream",
     "text": [
      "Epoch 50 Client0 :   3%|█▏                                           | 2/73 [00:00<00:04, 17.71it/s]"
     ]
    },
    {
     "name": "stdout",
     "output_type": "stream",
     "text": [
      "test_loss: 0.6366\n"
     ]
    },
    {
     "name": "stderr",
     "output_type": "stream",
     "text": [
      "Epoch 50 Client0 : 100%|████████████████████████████████████████████| 73/73 [00:02<00:00, 26.85it/s]\n",
      "Epoch 50 Client1 : 100%|████████████████████████████████████████████| 73/73 [00:02<00:00, 25.93it/s]\n"
     ]
    },
    {
     "name": "stdout",
     "output_type": "stream",
     "text": [
      "train_loss: 0.1274\n",
      "test_loss: 0.6309\n"
     ]
    }
   ],
   "source": [
    "for e in range(EPOCHS):\n",
    "\n",
    "    # train client 0\n",
    "\n",
    "    for user in range(users):\n",
    "\n",
    "        datasize = send_msg(clientsoclist[user], client_weights)\n",
    "        total_sendsize_list.append(datasize)\n",
    "        client_sendsize_list[user].append(datasize)\n",
    "        train_sendsize_list.append(datasize)\n",
    "\n",
    "        for i in tqdm(range(train_total_batch[user]), ncols=100, desc='Epoch {} Client{} '.format(e+1, user)):\n",
    "            optimizer_server.zero_grad()  # initialize all gradients to zero\n",
    "\n",
    "            msg, datasize = recv_msg(clientsoclist[user])  # receive client message from socket\n",
    "            total_receivesize_list.append(datasize)\n",
    "            client_receivesize_list[user].append(datasize)\n",
    "            train_receivesize_list.append(datasize)\n",
    "\n",
    "            client_output_cpu = msg['client_output']  # client output tensor\n",
    "            label = msg['label']  # label\n",
    "\n",
    "            client_output = client_output_cpu.to(device)\n",
    "            label = label.clone().detach().float().to(device)\n",
    "\n",
    "            output = server(client_output)  # forward propagation\n",
    "            loss = criterion(output, label)  # calculates cross-entropy loss\n",
    "            loss.backward()  # backward propagation\n",
    "            msg = client_output_cpu.grad.clone().detach()\n",
    "\n",
    "            datasize = send_msg(clientsoclist[user], msg)\n",
    "            total_sendsize_list.append(datasize)\n",
    "            client_sendsize_list[user].append(datasize)\n",
    "            train_sendsize_list.append(datasize)\n",
    "            \n",
    "            optimizer_server.step()\n",
    "            \n",
    "        client_weights, datasize = recv_msg(clientsoclist[user])\n",
    "        total_receivesize_list.append(datasize)\n",
    "        client_receivesize_list[user].append(datasize)\n",
    "        train_receivesize_list.append(datasize)\n",
    "        \n",
    "        \n",
    "\n",
    "    client.load_state_dict(client_weights)\n",
    "    client.to(device)\n",
    "    client.eval()\n",
    "\n",
    "\n",
    "    # train acc\n",
    "    with torch.no_grad():\n",
    "        train_loss = 0.0\n",
    "        for j, trn in enumerate(fb_train_loader):\n",
    "            trn_age, trn_weight, trn_icd_codes, trn_disease = trn['age'], trn['weight'], trn['icd_codes'], trn['disease']\n",
    "            trn_target = trn['target']\n",
    "            \n",
    "            trn_age = trn_age.to(device)\n",
    "            trn_weight = trn_weight.to(device)\n",
    "            trn_icd_codes = trn_icd_codes.to(device)\n",
    "            trn_disease = trn_disease.to(device)\n",
    "            \n",
    "            trn_target = trn_target.to(device)\n",
    "\n",
    "            trn_output = client(trn_age, trn_weight, trn_icd_codes, trn_disease)\n",
    "            trn_output = server(trn_output)\n",
    "            trn_target = trn_target.float()\n",
    "            loss = criterion(trn_output, trn_target)\n",
    "            train_loss += loss.item()\n",
    "\n",
    "        r_train_loss = train_loss / len(train_loader)\n",
    "        print(\"train_loss: {:.4f}\".format(r_train_loss))\n",
    "    \n",
    "    # test acc\n",
    "    with torch.no_grad():\n",
    "        val_loss = 0.0\n",
    "        for j, val in enumerate(fb_test_loader):\n",
    "            val_age, val_weight, val_icd_codes, val_disease = val['age'], val['weight'], val['icd_codes'], val['disease']\n",
    "            val_target = val['target']\n",
    "            \n",
    "            val_age = val_age.to(device)\n",
    "            val_weight = val_weight.to(device)\n",
    "            val_icd_codes = val_icd_codes.to(device)\n",
    "            val_disease = val_disease.to(device)\n",
    "            \n",
    "            val_target = val_target.to(device)\n",
    "\n",
    "            val_output = client(val_age, val_weight, val_icd_codes, val_disease)\n",
    "            val_output = server(val_output)\n",
    "        \n",
    "            val_label = val_target.float()\n",
    "            loss = criterion(val_output, val_label)\n",
    "            val_loss += loss.item()\n",
    "            \n",
    "        test_loss = val_loss / len(fb_test_loader)\n",
    "        print(\"test_loss: {:.4f}\".format(test_loss))"
   ]
  },
  {
   "cell_type": "code",
   "execution_count": 37,
   "metadata": {},
   "outputs": [],
   "source": [
    "def precision_at_k(y_true, y_pred, k):\n",
    "    topk_true = np.flip(np.argsort(y_true), 1)[:, :k]\n",
    "    topk_pred = np.flip(np.argsort(y_pred), 1)[:, :k]\n",
    "\n",
    "    n_relevant = 0\n",
    "    n_recommend = 0\n",
    "\n",
    "    for t, p in zip(topk_true, topk_pred):\n",
    "        # print(f\"t:{t}\")\n",
    "        # print(f\"p:{p}\")\n",
    "        n_relevant += len(np.intersect1d(t, p))\n",
    "        # print(f\"rev:{n_relevant}\")\n",
    "        n_recommend += len(p)\n",
    "        # print(n_recommend)\n",
    "\n",
    "    return float(n_relevant) / n_recommend"
   ]
  },
  {
   "cell_type": "code",
   "execution_count": 38,
   "metadata": {},
   "outputs": [
    {
     "name": "stdout",
     "output_type": "stream",
     "text": [
      "test_loss: 0.6309\n"
     ]
    }
   ],
   "source": [
    "with torch.no_grad():\n",
    "        val_loss = 0.0\n",
    "        pred = torch.empty((0, 25))\n",
    "        for j, val in enumerate(fb_test_loader):\n",
    "            val_age, val_weight, val_icd_codes, val_disease = val['age'], val['weight'], val['icd_codes'], val['disease']\n",
    "            val_target = val['target']\n",
    "            \n",
    "            val_age = val_age.to(device)\n",
    "            val_weight = val_weight.to(device)\n",
    "            val_icd_codes = val_icd_codes.to(device)\n",
    "            val_disease = val_disease.to(device)\n",
    "            \n",
    "            val_target = val_target.to(device)\n",
    "\n",
    "            val_output = client(val_age, val_weight, val_icd_codes, val_disease)\n",
    "            val_output = server(val_output)\n",
    "        \n",
    "            val_label = val_target.float()\n",
    "            loss = criterion(val_output, val_label)\n",
    "            val_loss += loss.item()\n",
    "            pred = torch.cat((pred, val_output))\n",
    "            \n",
    "        test_loss = val_loss / len(fb_test_loader)\n",
    "        print(\"test_loss: {:.4f}\".format(test_loss))"
   ]
  },
  {
   "cell_type": "code",
   "execution_count": 39,
   "metadata": {},
   "outputs": [
    {
     "name": "stdout",
     "output_type": "stream",
     "text": [
      "After training feedback dataset Precision@5: 0.8190189328743546\n"
     ]
    }
   ],
   "source": [
    "pred = pred.numpy()\n",
    "print(f\"After training feedback dataset Precision@5: {precision_at_k(fb_labels_test, pred, 5)}\")"
   ]
  }
 ],
 "metadata": {
  "kernelspec": {
   "display_name": "Python 3",
   "language": "python",
   "name": "python3"
  },
  "language_info": {
   "codemirror_mode": {
    "name": "ipython",
    "version": 3
   },
   "file_extension": ".py",
   "mimetype": "text/x-python",
   "name": "python",
   "nbconvert_exporter": "python",
   "pygments_lexer": "ipython3",
   "version": "3.8.3"
  }
 },
 "nbformat": 4,
 "nbformat_minor": 4
}
